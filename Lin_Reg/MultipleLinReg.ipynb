{
 "cells": [
  {
   "cell_type": "markdown",
   "id": "cd24424c",
   "metadata": {},
   "source": [
    "# Vectorization"
   ]
  },
  {
   "cell_type": "code",
   "execution_count": 16,
   "id": "1b453e6b",
   "metadata": {},
   "outputs": [],
   "source": [
    "import numpy as np\n",
    "import pandas as pd\n",
    "import matplotlib as plt\n",
    "import seaborn as sns\n",
    "import math\n",
    "import time"
   ]
  },
  {
   "cell_type": "code",
   "execution_count": 17,
   "id": "fd428896",
   "metadata": {},
   "outputs": [
    {
     "name": "stdout",
     "output_type": "stream",
     "text": [
      "[0. 0. 0. 0. 0.]\n",
      "[0 1 2 3 4 5]\n"
     ]
    }
   ],
   "source": [
    "a=np.zeros(5)\n",
    "print(a)\n",
    "b=np.arange(0,6)\n",
    "print(b)"
   ]
  },
  {
   "cell_type": "code",
   "execution_count": 18,
   "id": "2f428db5",
   "metadata": {},
   "outputs": [
    {
     "name": "stdout",
     "output_type": "stream",
     "text": [
      "[0 1 2 3 4 5 6 7]\n",
      "Sum=28  median=3.5   mean=3.5\n",
      "[ 0  1  4  9 16 25 36 49]\n"
     ]
    }
   ],
   "source": [
    "arr=np.arange(8)\n",
    "meant=np.mean(arr)\n",
    "mediant=np.median(arr)\n",
    "summa=np.sum(arr)\n",
    "print(arr)\n",
    "print(f\"Sum={summa}  median={mediant}   mean={meant}\")\n",
    "brr=arr**2\n",
    "print(brr)"
   ]
  },
  {
   "cell_type": "code",
   "execution_count": 19,
   "id": "0f662564",
   "metadata": {},
   "outputs": [
    {
     "name": "stdout",
     "output_type": "stream",
     "text": [
      "sum =[0 0 0 0 0]\n"
     ]
    }
   ],
   "source": [
    "# vector ops\n",
    "a=np.array([1,2,3,4,5])\n",
    "b=np.array([-1,-2,-3,-4,-5])\n",
    "print(f\"sum ={a+b}\")\n",
    "def my_dot(a, b): \n",
    "    \"\"\"\n",
    "   Compute the dot product of two vectors\n",
    " \n",
    "    Args:\n",
    "      a (ndarray (n,)):  input vector \n",
    "      b (ndarray (n,)):  input vector with same dimension as a\n",
    "    \n",
    "    Returns:\n",
    "      x (scalar): \n",
    "    \"\"\"\n",
    "    x=0\n",
    "    for i in range(a.shape[0]):\n",
    "        x = x + a[i] * b[i]\n",
    "    return x\n",
    "\n"
   ]
  },
  {
   "cell_type": "code",
   "execution_count": 21,
   "id": "00afee3c",
   "metadata": {},
   "outputs": [
    {
     "name": "stdout",
     "output_type": "stream",
     "text": [
      "np.dot(a, b) =  2501072.5817\n",
      "Vectorized version duration: 5.2381 ms \n",
      "my_dot(a, b) =  2501072.5817\n",
      "loop version duration: 2876.2720 ms \n"
     ]
    }
   ],
   "source": [
    "# time difference between the vectorised method and  the regular one without using vectors\n",
    "\n",
    "np.random.seed(1)\n",
    "a = np.random.rand(10000000)  # very large arrays\n",
    "b = np.random.rand(10000000)\n",
    "\n",
    "tic = time.time()  # capture start time\n",
    "c = np.dot(a, b)\n",
    "toc = time.time()  # capture end time\n",
    "\n",
    "print(f\"np.dot(a, b) =  {c:.4f}\")\n",
    "print(f\"Vectorized version duration: {1000*(toc-tic):.4f} ms \")\n",
    "\n",
    "tic = time.time()  # capture start time\n",
    "c = my_dot(a,b)\n",
    "toc = time.time()  # capture end time\n",
    "\n",
    "print(f\"my_dot(a, b) =  {c:.4f}\")\n",
    "print(f\"loop version duration: {1000*(toc-tic):.4f} ms \")\n",
    "\n",
    "del(a);del(b)"
   ]
  },
  {
   "cell_type": "markdown",
   "id": "5f5fb38f",
   "metadata": {},
   "source": [
    "# Multiple variable linear regression"
   ]
  },
  {
   "cell_type": "code",
   "execution_count": 22,
   "id": "0d488e31",
   "metadata": {},
   "outputs": [],
   "source": [
    "X_train = np.array([[2104, 5, 1, 45], [1416, 3, 2, 40], [852, 2, 1, 35]])\n",
    "y_train = np.array([460, 232, 178])"
   ]
  },
  {
   "cell_type": "code",
   "execution_count": 33,
   "id": "861e5e9f",
   "metadata": {},
   "outputs": [
    {
     "name": "stdout",
     "output_type": "stream",
     "text": [
      "w_init shape: (4,), b_init type: <class 'float'>\n"
     ]
    }
   ],
   "source": [
    "b_init = 785.1811367994083\n",
    "w_init = np.array([ 0.39133535, 18.75376741, -53.36032453, -26.42131618])\n",
    "print(f\"w_init shape: {w_init.shape}, b_init type: {type(b_init)}\")"
   ]
  },
  {
   "cell_type": "code",
   "execution_count": 31,
   "id": "27a1d15f",
   "metadata": {},
   "outputs": [
    {
     "name": "stdout",
     "output_type": "stream",
     "text": [
      "[2104    5    1   45]\n"
     ]
    }
   ],
   "source": [
    "def prediction(x,w,b):\n",
    "    p=np.dot(x,w)+b\n",
    "    return p\n",
    "x_vec=X_train[0,:]\n",
    "print(x_vec)"
   ]
  },
  {
   "cell_type": "code",
   "execution_count": 32,
   "id": "85222c3f",
   "metadata": {},
   "outputs": [],
   "source": [
    "def compute_cost(x,y,w,b):\n",
    "    m=x.shape[0]\n",
    "    cost=0.0\n",
    "\n",
    "    for i in range(m):\n",
    "        f_wb_i=np.dot(x[i],w)+b\n",
    "        cost=cost+(f_wb_i-y[i])**2\n",
    "    cost=cost/(2*m)\n",
    "    return cost"
   ]
  },
  {
   "cell_type": "code",
   "execution_count": null,
   "id": "01c16dce",
   "metadata": {},
   "outputs": [],
   "source": []
  }
 ],
 "metadata": {
  "kernelspec": {
   "display_name": "Python 3",
   "language": "python",
   "name": "python3"
  },
  "language_info": {
   "codemirror_mode": {
    "name": "ipython",
    "version": 3
   },
   "file_extension": ".py",
   "mimetype": "text/x-python",
   "name": "python",
   "nbconvert_exporter": "python",
   "pygments_lexer": "ipython3",
   "version": "3.13.3"
  }
 },
 "nbformat": 4,
 "nbformat_minor": 5
}
