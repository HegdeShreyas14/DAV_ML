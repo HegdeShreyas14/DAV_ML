{
 "cells": [
  {
   "cell_type": "markdown",
   "id": "d2f899fc",
   "metadata": {},
   "source": [
    "# Pokemon dataset \n",
    "# Name:Shreyas S Hegde\n",
    "# Reg no: 240905118"
   ]
  },
  {
   "cell_type": "code",
   "execution_count": 2,
   "id": "e14bb2bc",
   "metadata": {},
   "outputs": [],
   "source": [
    "import pandas as pd\n",
    "import numpy as np\n",
    "import matplotlib.pyplot as plt\n",
    "import seaborn as sns\n",
    "import math\n",
    "from scipy import stats"
   ]
  },
  {
   "cell_type": "code",
   "execution_count": 3,
   "id": "136bfc99",
   "metadata": {},
   "outputs": [
    {
     "data": {
      "text/plain": [
       "<bound method DataFrame.info of      national_number   gen english_name japanese_name primary_type  \\\n",
       "0                  1     I    Bulbasaur   Fushigidane        grass   \n",
       "1                  2     I      Ivysaur    Fushigisou        grass   \n",
       "2                  3     I     Venusaur   Fushigibana        grass   \n",
       "3                  4     I   Charmander      Hitokage         fire   \n",
       "4                  5     I   Charmeleon       Lizardo         fire   \n",
       "..               ...   ...          ...           ...          ...   \n",
       "893              894  VIII    Regieleki     Regieleki     electric   \n",
       "894              895  VIII    Regidrago     Regidrago       dragon   \n",
       "895              896  VIII    Glastrier      Blizapos          ice   \n",
       "896              897  VIII    Spectrier       Rayspos        ghost   \n",
       "897              898  VIII      Calyrex        Badrex      psychic   \n",
       "\n",
       "    secondary_type       classification percent_male percent_female  height_m  \\\n",
       "0           poison         Seed Pokémon        88.14          11.86       0.7   \n",
       "1           poison         Seed Pokémon        88.14          11.86       1.0   \n",
       "2           poison         Seed Pokémon        88.14          11.86       2.0   \n",
       "3              NaN       Lizard Pokémon        88.14          11.86       0.6   \n",
       "4              NaN        Flame Pokémon        88.14          11.86       1.1   \n",
       "..             ...                  ...          ...            ...       ...   \n",
       "893            NaN     Electron Pokémon          NaN            NaN       1.2   \n",
       "894            NaN   Dragon Orb Pokémon          NaN            NaN       2.1   \n",
       "895            NaN   Wild Horse Pokémon          NaN            NaN       2.2   \n",
       "896            NaN  Swift Horse Pokémon          NaN            NaN       2.0   \n",
       "897          grass         King Pokémon          NaN            NaN       1.1   \n",
       "\n",
       "     ...  evochain_1  evochain_2  evochain_3  evochain_4  evochain_5  \\\n",
       "0    ...      Level      Ivysaur      Level     Venusaur         NaN   \n",
       "1    ...      Level      Ivysaur      Level     Venusaur         NaN   \n",
       "2    ...      Level      Ivysaur      Level     Venusaur         NaN   \n",
       "3    ...      Level   Charmeleon      Level    Charizard         NaN   \n",
       "4    ...      Level   Charmeleon      Level    Charizard         NaN   \n",
       "..   ...         ...         ...         ...         ...         ...   \n",
       "893  ...         NaN         NaN         NaN         NaN         NaN   \n",
       "894  ...         NaN         NaN         NaN         NaN         NaN   \n",
       "895  ...         NaN         NaN         NaN         NaN         NaN   \n",
       "896  ...         NaN         NaN         NaN         NaN         NaN   \n",
       "897  ...         NaN         NaN         NaN         NaN         NaN   \n",
       "\n",
       "     evochain_6           gigantamax  \\\n",
       "0           NaN                  NaN   \n",
       "1           NaN                  NaN   \n",
       "2           NaN  Gigantamax Venusaur   \n",
       "3           NaN                  NaN   \n",
       "4           NaN                  NaN   \n",
       "..          ...                  ...   \n",
       "893         NaN                  NaN   \n",
       "894         NaN                  NaN   \n",
       "895         NaN                  NaN   \n",
       "896         NaN                  NaN   \n",
       "897         NaN                  NaN   \n",
       "\n",
       "                                       mega_evolution  mega_evolution_alt  \\\n",
       "0                                                 NaN                 NaN   \n",
       "1                                                 NaN                 NaN   \n",
       "2    DM me your favourite pokemon to get extra points                 NaN   \n",
       "3                                                 NaN                 NaN   \n",
       "4                                                 NaN                 NaN   \n",
       "..                                                ...                 ...   \n",
       "893                                               NaN                 NaN   \n",
       "894                                               NaN                 NaN   \n",
       "895                                               NaN                 NaN   \n",
       "896                                               NaN                 NaN   \n",
       "897                                               NaN                 NaN   \n",
       "\n",
       "                                           description  \n",
       "0    There is a plant seed on its back right from t...  \n",
       "1    When the bulb on its back grows large, it appe...  \n",
       "2    Its plant blooms when it is absorbing solar en...  \n",
       "3    It has a preference for hot things. When it ra...  \n",
       "4    It has a barbaric nature. In battle, it whips ...  \n",
       "..                                                 ...  \n",
       "893  This Pokémon is a cluster of electrical energy...  \n",
       "894  An academic theory proposes that Regidrago’s a...  \n",
       "895  Glastrier emits intense cold from its hooves. ...  \n",
       "896  It probes its surroundings with all its senses...  \n",
       "897  Calyrex is a merciful Pokémon, capable of prov...  \n",
       "\n",
       "[898 rows x 55 columns]>"
      ]
     },
     "execution_count": 3,
     "metadata": {},
     "output_type": "execute_result"
    }
   ],
   "source": [
    "df=pd.read_excel(\"pokemon_data.xlsx\")\n",
    "df.info"
   ]
  },
  {
   "cell_type": "code",
   "execution_count": 4,
   "id": "7ebd8f41",
   "metadata": {},
   "outputs": [
    {
     "data": {
      "application/vnd.microsoft.datawrangler.viewer.v0+json": {
       "columns": [
        {
         "name": "index",
         "rawType": "object",
         "type": "string"
        },
        {
         "name": "0",
         "rawType": "int64",
         "type": "integer"
        }
       ],
       "ref": "3316af5f-cd03-4c75-9ef4-372567816857",
       "rows": [
        [
         "national_number",
         "0"
        ],
        [
         "gen",
         "0"
        ],
        [
         "english_name",
         "0"
        ],
        [
         "japanese_name",
         "0"
        ],
        [
         "primary_type",
         "0"
        ],
        [
         "secondary_type",
         "429"
        ],
        [
         "classification",
         "0"
        ],
        [
         "percent_male",
         "122"
        ],
        [
         "percent_female",
         "122"
        ],
        [
         "height_m",
         "0"
        ],
        [
         "weight_kg",
         "0"
        ],
        [
         "capture_rate",
         "0"
        ],
        [
         "base_egg_steps",
         "0"
        ],
        [
         "hp",
         "0"
        ],
        [
         "attack",
         "0"
        ],
        [
         "defense",
         "0"
        ],
        [
         "sp_attack",
         "0"
        ],
        [
         "sp_defense",
         "0"
        ],
        [
         "speed",
         "0"
        ],
        [
         "abilities_0",
         "0"
        ],
        [
         "abilities_1",
         "403"
        ],
        [
         "abilities_2",
         "895"
        ],
        [
         "abilities_hidden",
         "135"
        ],
        [
         "against_normal",
         "0"
        ],
        [
         "against_fire",
         "0"
        ],
        [
         "against_water",
         "0"
        ],
        [
         "against_electric",
         "0"
        ],
        [
         "against_grass",
         "0"
        ],
        [
         "against_ice",
         "0"
        ],
        [
         "against_fighting",
         "0"
        ],
        [
         "against_poison",
         "0"
        ],
        [
         "against_ground",
         "0"
        ],
        [
         "against_flying",
         "0"
        ],
        [
         "against_psychic",
         "0"
        ],
        [
         "against_bug",
         "0"
        ],
        [
         "against_rock",
         "0"
        ],
        [
         "against_ghost",
         "0"
        ],
        [
         "against_dragon",
         "0"
        ],
        [
         "against_dark",
         "0"
        ],
        [
         "against_steel",
         "0"
        ],
        [
         "against_fairy",
         "0"
        ],
        [
         "is_sublegendary",
         "0"
        ],
        [
         "is_legendary",
         "0"
        ],
        [
         "is_mythical",
         "0"
        ],
        [
         "evochain_0",
         "0"
        ],
        [
         "evochain_1",
         "170"
        ],
        [
         "evochain_2",
         "170"
        ],
        [
         "evochain_3",
         "563"
        ],
        [
         "evochain_4",
         "566"
        ],
        [
         "evochain_5",
         "879"
        ]
       ],
       "shape": {
        "columns": 1,
        "rows": 55
       }
      },
      "text/plain": [
       "national_number         0\n",
       "gen                     0\n",
       "english_name            0\n",
       "japanese_name           0\n",
       "primary_type            0\n",
       "secondary_type        429\n",
       "classification          0\n",
       "percent_male          122\n",
       "percent_female        122\n",
       "height_m                0\n",
       "weight_kg               0\n",
       "capture_rate            0\n",
       "base_egg_steps          0\n",
       "hp                      0\n",
       "attack                  0\n",
       "defense                 0\n",
       "sp_attack               0\n",
       "sp_defense              0\n",
       "speed                   0\n",
       "abilities_0             0\n",
       "abilities_1           403\n",
       "abilities_2           895\n",
       "abilities_hidden      135\n",
       "against_normal          0\n",
       "against_fire            0\n",
       "against_water           0\n",
       "against_electric        0\n",
       "against_grass           0\n",
       "against_ice             0\n",
       "against_fighting        0\n",
       "against_poison          0\n",
       "against_ground          0\n",
       "against_flying          0\n",
       "against_psychic         0\n",
       "against_bug             0\n",
       "against_rock            0\n",
       "against_ghost           0\n",
       "against_dragon          0\n",
       "against_dark            0\n",
       "against_steel           0\n",
       "against_fairy           0\n",
       "is_sublegendary         0\n",
       "is_legendary            0\n",
       "is_mythical             0\n",
       "evochain_0              0\n",
       "evochain_1            170\n",
       "evochain_2            170\n",
       "evochain_3            563\n",
       "evochain_4            566\n",
       "evochain_5            879\n",
       "evochain_6            879\n",
       "gigantamax            867\n",
       "mega_evolution        852\n",
       "mega_evolution_alt    896\n",
       "description             0\n",
       "dtype: int64"
      ]
     },
     "execution_count": 4,
     "metadata": {},
     "output_type": "execute_result"
    }
   ],
   "source": [
    "df.isnull().sum()"
   ]
  },
  {
   "cell_type": "code",
   "execution_count": 5,
   "id": "58e23919",
   "metadata": {},
   "outputs": [
    {
     "data": {
      "application/vnd.microsoft.datawrangler.viewer.v0+json": {
       "columns": [
        {
         "name": "index",
         "rawType": "object",
         "type": "string"
        },
        {
         "name": "0",
         "rawType": "int64",
         "type": "integer"
        }
       ],
       "ref": "bb5e7af4-3b41-4017-840b-a813e2e2dac4",
       "rows": [
        [
         "national_number",
         "0"
        ],
        [
         "gen",
         "0"
        ],
        [
         "english_name",
         "0"
        ],
        [
         "japanese_name",
         "0"
        ],
        [
         "primary_type",
         "0"
        ],
        [
         "secondary_type",
         "0"
        ],
        [
         "classification",
         "0"
        ],
        [
         "percent_male",
         "0"
        ],
        [
         "percent_female",
         "0"
        ],
        [
         "height_m",
         "0"
        ],
        [
         "weight_kg",
         "0"
        ],
        [
         "capture_rate",
         "0"
        ],
        [
         "base_egg_steps",
         "0"
        ],
        [
         "hp",
         "0"
        ],
        [
         "attack",
         "0"
        ],
        [
         "defense",
         "0"
        ],
        [
         "sp_attack",
         "0"
        ],
        [
         "sp_defense",
         "0"
        ],
        [
         "speed",
         "0"
        ],
        [
         "abilities_0",
         "0"
        ],
        [
         "abilities_1",
         "0"
        ],
        [
         "abilities_2",
         "0"
        ],
        [
         "abilities_hidden",
         "0"
        ],
        [
         "against_normal",
         "0"
        ],
        [
         "against_fire",
         "0"
        ],
        [
         "against_water",
         "0"
        ],
        [
         "against_electric",
         "0"
        ],
        [
         "against_grass",
         "0"
        ],
        [
         "against_ice",
         "0"
        ],
        [
         "against_fighting",
         "0"
        ],
        [
         "against_poison",
         "0"
        ],
        [
         "against_ground",
         "0"
        ],
        [
         "against_flying",
         "0"
        ],
        [
         "against_psychic",
         "0"
        ],
        [
         "against_bug",
         "0"
        ],
        [
         "against_rock",
         "0"
        ],
        [
         "against_ghost",
         "0"
        ],
        [
         "against_dragon",
         "0"
        ],
        [
         "against_dark",
         "0"
        ],
        [
         "against_steel",
         "0"
        ],
        [
         "against_fairy",
         "0"
        ],
        [
         "is_sublegendary",
         "0"
        ],
        [
         "is_legendary",
         "0"
        ],
        [
         "is_mythical",
         "0"
        ],
        [
         "evochain_0",
         "0"
        ],
        [
         "evochain_1",
         "0"
        ],
        [
         "evochain_2",
         "0"
        ],
        [
         "evochain_3",
         "0"
        ],
        [
         "evochain_4",
         "0"
        ],
        [
         "evochain_5",
         "0"
        ]
       ],
       "shape": {
        "columns": 1,
        "rows": 55
       }
      },
      "text/plain": [
       "national_number       0\n",
       "gen                   0\n",
       "english_name          0\n",
       "japanese_name         0\n",
       "primary_type          0\n",
       "secondary_type        0\n",
       "classification        0\n",
       "percent_male          0\n",
       "percent_female        0\n",
       "height_m              0\n",
       "weight_kg             0\n",
       "capture_rate          0\n",
       "base_egg_steps        0\n",
       "hp                    0\n",
       "attack                0\n",
       "defense               0\n",
       "sp_attack             0\n",
       "sp_defense            0\n",
       "speed                 0\n",
       "abilities_0           0\n",
       "abilities_1           0\n",
       "abilities_2           0\n",
       "abilities_hidden      0\n",
       "against_normal        0\n",
       "against_fire          0\n",
       "against_water         0\n",
       "against_electric      0\n",
       "against_grass         0\n",
       "against_ice           0\n",
       "against_fighting      0\n",
       "against_poison        0\n",
       "against_ground        0\n",
       "against_flying        0\n",
       "against_psychic       0\n",
       "against_bug           0\n",
       "against_rock          0\n",
       "against_ghost         0\n",
       "against_dragon        0\n",
       "against_dark          0\n",
       "against_steel         0\n",
       "against_fairy         0\n",
       "is_sublegendary       0\n",
       "is_legendary          0\n",
       "is_mythical           0\n",
       "evochain_0            0\n",
       "evochain_1            0\n",
       "evochain_2            0\n",
       "evochain_3            0\n",
       "evochain_4            0\n",
       "evochain_5            0\n",
       "evochain_6            0\n",
       "gigantamax            0\n",
       "mega_evolution        0\n",
       "mega_evolution_alt    0\n",
       "description           0\n",
       "dtype: int64"
      ]
     },
     "execution_count": 5,
     "metadata": {},
     "output_type": "execute_result"
    }
   ],
   "source": [
    "# fill the missing /NaN values\n",
    "df.fillna(0,inplace = True)\n",
    "df.isnull().sum()"
   ]
  },
  {
   "cell_type": "markdown",
   "id": "ced21e8a",
   "metadata": {},
   "source": [
    "# Q1. Detect outliers in weight_kg and height_m. Are there any abnormally large or small Pokémon?"
   ]
  },
  {
   "cell_type": "code",
   "execution_count": 6,
   "id": "29626820",
   "metadata": {},
   "outputs": [
    {
     "name": "stdout",
     "output_type": "stream",
     "text": [
      "Outliers based on weight:\n",
      "      national_number   gen english_name japanese_name primary_type  \\\n",
      "58                59     I     Arcanine        Windie         fire   \n",
      "75                76     I        Golem       Golonya         rock   \n",
      "94                95     I         Onix         Iwark         rock   \n",
      "129              130     I     Gyarados      Gyarados        water   \n",
      "130              131     I       Lapras       Laplace        water   \n",
      "..               ...   ...          ...           ...          ...   \n",
      "882              883  VIII    Arctovish      Unorudon        water   \n",
      "888              889  VIII    Zamazenta     Zamazenta     fighting   \n",
      "889              890  VIII    Eternatus    Mugendaina       poison   \n",
      "894              895  VIII    Regidrago     Regidrago       dragon   \n",
      "895              896  VIII    Glastrier      Blizapos          ice   \n",
      "\n",
      "    secondary_type      classification percent_male percent_female  height_m  \\\n",
      "58               0   Legendary Pokémon        75.49          24.51       1.9   \n",
      "75          ground     Megaton Pokémon           50             50       1.4   \n",
      "94          ground  Rock Snake Pokémon         50.2           49.8       8.8   \n",
      "129         flying   Atrocious Pokémon         50.2           49.8       6.5   \n",
      "130            ice   Transport Pokémon         50.2           49.8       2.5   \n",
      "..             ...                 ...          ...            ...       ...   \n",
      "882            ice      Fossil Pokémon            0              0       2.0   \n",
      "888       fighting     Warrior Pokémon            0              0       2.9   \n",
      "889         dragon    Gigantic Pokémon            0              0      20.0   \n",
      "894              0  Dragon Orb Pokémon            0              0       2.1   \n",
      "895              0  Wild Horse Pokémon            0              0       2.2   \n",
      "\n",
      "     ...              evochain_1 evochain_2  evochain_3  evochain_4  \\\n",
      "58   ...          Use Fire Stone   Arcanine           0           0   \n",
      "75   ...                   Level   Graveler       Trade       Golem   \n",
      "94   ...  Trade with  Metal Coat    Steelix           0           0   \n",
      "129  ...                  Level    Gyarados           0           0   \n",
      "130  ...                       0          0           0           0   \n",
      "..   ...                     ...        ...         ...         ...   \n",
      "882  ...                       0          0           0           0   \n",
      "888  ...                       0          0           0           0   \n",
      "889  ...                       0          0           0           0   \n",
      "894  ...                       0          0           0           0   \n",
      "895  ...                       0          0           0           0   \n",
      "\n",
      "     evochain_5  evochain_6         gigantamax  mega_evolution  \\\n",
      "58            0           0                  0               0   \n",
      "75            0           0                  0               0   \n",
      "94            0           0                  0               0   \n",
      "129           0           0                  0   Mega Gyarados   \n",
      "130           0           0  Gigantamax Lapras               0   \n",
      "..          ...         ...                ...             ...   \n",
      "882           0           0                  0               0   \n",
      "888           0           0                  0               0   \n",
      "889           0           0                  0               0   \n",
      "894           0           0                  0               0   \n",
      "895           0           0                  0               0   \n",
      "\n",
      "     mega_evolution_alt                                        description  \n",
      "58                    0  The sight of it running over 6,200 miles in a ...  \n",
      "75                    0  Once it sheds its skin, its body turns tender ...  \n",
      "94                    0  As it digs through the ground, it absorbs many...  \n",
      "129                   0  It has an extremely aggressive nature. The Hyp...  \n",
      "130                   0  A smart and kindhearted Pokémon, it glides acr...  \n",
      "..                  ...                                                ...  \n",
      "882                   0  Though it’s able to capture prey by freezing i...  \n",
      "888                   0  In times past, it worked together with a king ...  \n",
      "889                   0  The core on its chest absorbs energy emanating...  \n",
      "894                   0  An academic theory proposes that Regidrago’s a...  \n",
      "895                   0  Glastrier emits intense cold from its hooves. ...  \n",
      "\n",
      "[94 rows x 55 columns]\n"
     ]
    },
    {
     "data": {
      "image/png": "[encoded data removed]",
      "text/plain": [
       "<Figure size 640x480 with 1 Axes>"
      ]
     },
     "metadata": {},
     "output_type": "display_data"
    },
    {
     "name": "stdout",
     "output_type": "stream",
     "text": [
      "=================================================================================================\n",
      "Outliers based on height \n",
      "      national_number   gen english_name japanese_name primary_type  \\\n",
      "23                24     I        Arbok         Arbok       poison   \n",
      "94                95     I         Onix         Iwark         rock   \n",
      "129              130     I     Gyarados      Gyarados        water   \n",
      "147              148     I    Dragonair       Hakuryu       dragon   \n",
      "207              208    II      Steelix      Haganeil        steel   \n",
      "248              249    II        Lugia         Lugia      psychic   \n",
      "249              250    II        Ho-Oh         Houou         fire   \n",
      "320              321   III      Wailord        Whaloh        water   \n",
      "349              350   III      Milotic    Milokaross        water   \n",
      "381              382   III       Kyogre        Kyogre        water   \n",
      "382              383   III      Groudon       Groudon       ground   \n",
      "383              384   III     Rayquaza      Rayquaza       dragon   \n",
      "482              483    IV       Dialga        Dialga        steel   \n",
      "483              484    IV       Palkia        Palkia        water   \n",
      "485              486    IV    Regigigas     Regigigas       normal   \n",
      "486              487    IV     Giratina      Giratina        ghost   \n",
      "492              493    IV       Arceus        Arceus       normal   \n",
      "496              497     V    Serperior       Jalorda        grass   \n",
      "642              643     V     Reshiram      Reshiram       dragon   \n",
      "716              717    VI      Yveltal       Yveltal         dark   \n",
      "717              718    VI      Zygarde       Zygarde       dragon   \n",
      "780              781   VII     Dhelmise       Dadarin        ghost   \n",
      "790              791   VII     Solgaleo      Solgaleo      psychic   \n",
      "791              792   VII       Lunala        Lunala      psychic   \n",
      "795              796   VII    Xurkitree    Denjyumoku     electric   \n",
      "796              797   VII   Celesteela     Tekkaguya        steel   \n",
      "798              799   VII     Guzzlord     Akuziking         dark   \n",
      "803              804   VII    Naganadel        Agoyon       poison   \n",
      "804              805   VII    Stakataka  Tsundetsunde         rock   \n",
      "843              844  VIII   Sandaconda       Sadaija       ground   \n",
      "889              890  VIII    Eternatus    Mugendaina       poison   \n",
      "\n",
      "    secondary_type       classification percent_male percent_female  height_m  \\\n",
      "23               0        Cobra Pokémon           50             50       3.5   \n",
      "94          ground   Rock Snake Pokémon         50.2           49.8       8.8   \n",
      "129         flying    Atrocious Pokémon         50.2           49.8       6.5   \n",
      "147              0       Dragon Pokémon         50.2           49.8       4.0   \n",
      "207         ground   Iron Snake Pokémon         50.2           49.8       9.2   \n",
      "248         flying       Diving Pokémon            0              0       5.2   \n",
      "249         flying      Rainbow Pokémon            0              0       3.8   \n",
      "320              0  Float Whale Pokémon         50.2           49.8      14.5   \n",
      "349              0       Tender Pokémon         50.2           49.8       6.2   \n",
      "381              0    Sea Basin Pokémon            0              0       4.5   \n",
      "382              0    Continent Pokémon            0              0       3.5   \n",
      "383         flying     Sky High Pokémon            0              0       7.0   \n",
      "482         dragon     Temporal Pokémon            0              0       5.4   \n",
      "483         dragon      Spatial Pokémon            0              0       4.2   \n",
      "485              0     Colossal Pokémon            0              0       3.7   \n",
      "486         dragon     Renegade Pokémon            0              0       4.5   \n",
      "492              0        Alpha Pokémon            0              0       3.2   \n",
      "496              0        Regal Pokémon         88.1           11.9       3.3   \n",
      "642           fire   Vast White Pokémon            0              0       3.2   \n",
      "716         flying  Destruction Pokémon            0              0       5.8   \n",
      "717         ground        Order Pokémon            0              0       5.0   \n",
      "780          grass  Sea Creeper Pokémon            0              0       3.9   \n",
      "790          steel        Sunne Pokémon            0              0       3.4   \n",
      "791          ghost        Moone Pokémon            0              0       4.0   \n",
      "795              0      Glowing Pokémon            0              0       3.8   \n",
      "796         flying       Launch Pokémon            0              0       9.2   \n",
      "798         dragon    Junkivore Pokémon            0              0       5.5   \n",
      "803         dragon   Poison Pin Pokémon            0              0       3.6   \n",
      "804          steel      Rampart Pokémon            0              0       5.5   \n",
      "843              0   Sand Snake Pokémon         50.2           49.8       3.8   \n",
      "889         dragon     Gigantic Pokémon            0              0      20.0   \n",
      "\n",
      "     ...                            evochain_1  evochain_2  \\\n",
      "23   ...                                Level        Arbok   \n",
      "94   ...                Trade with  Metal Coat     Steelix   \n",
      "129  ...                                Level     Gyarados   \n",
      "147  ...                                Level    Dragonair   \n",
      "207  ...                Trade with  Metal Coat     Steelix   \n",
      "248  ...                                     0           0   \n",
      "249  ...                                     0           0   \n",
      "320  ...                                Level      Wailord   \n",
      "349  ...             Level up (Maximum Beauty)     Milotic   \n",
      "381  ...                                     0           0   \n",
      "382  ...                                     0           0   \n",
      "383  ...                                     0           0   \n",
      "482  ...                                     0           0   \n",
      "483  ...                                     0           0   \n",
      "485  ...                                     0           0   \n",
      "486  ...                                     0           0   \n",
      "492  ...                                     0           0   \n",
      "496  ...                                Level      Servine   \n",
      "642  ...                                     0           0   \n",
      "716  ...                                     0           0   \n",
      "717  ...                                     0           0   \n",
      "780  ...                                     0           0   \n",
      "790  ...                                 Level     Cosmoem   \n",
      "791  ...                                 Level     Cosmoem   \n",
      "795  ...                                     0           0   \n",
      "796  ...                                     0           0   \n",
      "798  ...                                     0           0   \n",
      "803  ...  Level up while knowing  Dragon Pulse   Naganadel   \n",
      "804  ...                                     0           0   \n",
      "843  ...                                Level   Sandaconda   \n",
      "889  ...                                     0           0   \n",
      "\n",
      "                    evochain_3  evochain_4                 evochain_5  \\\n",
      "23                           0           0                          0   \n",
      "94                           0           0                          0   \n",
      "129                          0           0                          0   \n",
      "147                     Level    Dragonite                          0   \n",
      "207                          0           0                          0   \n",
      "248                          0           0                          0   \n",
      "249                          0           0                          0   \n",
      "320                          0           0                          0   \n",
      "349                          0           0                          0   \n",
      "381                          0           0                          0   \n",
      "382                          0           0                          0   \n",
      "383                          0           0                          0   \n",
      "482                          0           0                          0   \n",
      "483                          0           0                          0   \n",
      "485                          0           0                          0   \n",
      "486                          0           0                          0   \n",
      "492                          0           0                          0   \n",
      "496                     Level    Serperior                          0   \n",
      "642                          0           0                          0   \n",
      "716                          0           0                          0   \n",
      "717                          0           0                          0   \n",
      "780                          0           0                          0   \n",
      "790  Level 53 in Specific Game    Solgaleo  Level 53 in Specific Game   \n",
      "791  Level 53 in Specific Game    Solgaleo  Level 53 in Specific Game   \n",
      "795                          0           0                          0   \n",
      "796                          0           0                          0   \n",
      "798                          0           0                          0   \n",
      "803                          0           0                          0   \n",
      "804                          0           0                          0   \n",
      "843                          0           0                          0   \n",
      "889                          0           0                          0   \n",
      "\n",
      "     evochain_6             gigantamax  mega_evolution  mega_evolution_alt  \\\n",
      "23            0                      0               0                   0   \n",
      "94            0                      0               0                   0   \n",
      "129           0                      0   Mega Gyarados                   0   \n",
      "147           0                      0               0                   0   \n",
      "207           0                      0    Mega Steelix                   0   \n",
      "248           0                      0               0                   0   \n",
      "249           0                      0               0                   0   \n",
      "320           0                      0               0                   0   \n",
      "349           0                      0               0                   0   \n",
      "381           0                      0               0                   0   \n",
      "382           0                      0               0                   0   \n",
      "383           0                      0   Mega Rayquaza                   0   \n",
      "482           0                      0               0                   0   \n",
      "483           0                      0               0                   0   \n",
      "485           0                      0               0                   0   \n",
      "486           0                      0               0                   0   \n",
      "492           0                      0               0                   0   \n",
      "496           0                      0               0                   0   \n",
      "642           0                      0               0                   0   \n",
      "716           0                      0               0                   0   \n",
      "717           0                      0               0                   0   \n",
      "780           0                      0               0                   0   \n",
      "790      Lunala                      0               0                   0   \n",
      "791      Lunala                      0               0                   0   \n",
      "795           0                      0               0                   0   \n",
      "796           0                      0               0                   0   \n",
      "798           0                      0               0                   0   \n",
      "803           0                      0               0                   0   \n",
      "804           0                      0               0                   0   \n",
      "843           0  Gigantamax Sandaconda               0                   0   \n",
      "889           0                      0               0                   0   \n",
      "\n",
      "                                           description  \n",
      "23   The frightening patterns on its belly have bee...  \n",
      "94   As it digs through the ground, it absorbs many...  \n",
      "129  It has an extremely aggressive nature. The Hyp...  \n",
      "147  This Pokémon lives in pristine oceans and lake...  \n",
      "207  It is said that if an Onix lives for over 100 ...  \n",
      "248  Lugia’s wings pack devastating power—a light f...  \n",
      "249  Ho-Oh’s feathers glow in seven colors dependin...  \n",
      "320  It can sometimes knock out opponents with the ...  \n",
      "349  Milotic has provided inspiration to many artis...  \n",
      "381  Through Primal Reversion and with nature’s ful...  \n",
      "382  Groudon is said to be the personification of t...  \n",
      "383  Rayquaza is said to have lived for hundreds of...  \n",
      "482  A Pokémon spoken of in legend. It is said that...  \n",
      "483  It is said to live in a gap in the spatial dim...  \n",
      "485  It is said to have made Pokémon that look like...  \n",
      "486  This Pokémon is said to live in a world on the...  \n",
      "492  According to the legends of Sinnoh, this Pokém...  \n",
      "496  It only gives its all against strong opponents...  \n",
      "642  This legendary Pokémon can scorch the world wi...  \n",
      "716  When this legendary Pokémon’s wings and tail f...  \n",
      "717  This is Zygarde’s form when about half of its ...  \n",
      "780  After a piece of seaweed merged with debris fr...  \n",
      "790  Sometimes the result of its opening an Ultra W...  \n",
      "791  Records of it exist in writings from long, lon...  \n",
      "795  Although it’s alien to this world and a danger...  \n",
      "796  One of the dangerous UBs, high energy readings...  \n",
      "798  Although it’s alien to this world and a danger...  \n",
      "803  It stores hundreds of liters of poisonous liqu...  \n",
      "804  It appeared from an Ultra Wormhole. Each one a...  \n",
      "843  When it contracts its body, over 220 pounds of...  \n",
      "889  The core on its chest absorbs energy emanating...  \n",
      "\n",
      "[31 rows x 55 columns]\n"
     ]
    },
    {
     "data": {
      "image/png": "[encoded data removed]",
      "text/plain": [
       "<Figure size 640x480 with 1 Axes>"
      ]
     },
     "metadata": {},
     "output_type": "display_data"
    }
   ],
   "source": [
    "# Weight based outlier detection\n",
    "Q1 = df['weight_kg'].quantile(0.25)\n",
    "Q3 = df['weight_kg'].quantile(0.75)\n",
    "IQR = Q3 - Q1\n",
    "\n",
    "lower = Q1 - 1.5 * IQR\n",
    "upper = Q3 + 1.5 * IQR\n",
    "\n",
    "outliers = df[(df['weight_kg'] < lower) | (df['weight_kg'] > upper)]\n",
    "print(\"Outliers based on weight:\\n\", outliers)\n",
    "\n",
    "sns.boxplot(y = df[\"weight_kg\"])\n",
    "plt.show()\n",
    "\n",
    "print(\"=================================================================================================\")\n",
    "\n",
    "#height based outlier detection\n",
    "Q11=df['height_m'].quantile(0.25)\n",
    "Q33=df['height_m'].quantile(0.75)\n",
    "IQR2=Q33-Q11\n",
    "l2=Q11-1.5*IQR2\n",
    "u2=Q33+1.5*IQR2\n",
    "outliers2=df[(df['height_m']<l2)| (df['height_m']>u2)]\n",
    "print(\"Outliers based on height \\n\",outliers2)\n",
    "sns.boxplot(y = df[\"height_m\"])\n",
    "plt.show()"
   ]
  },
  {
   "cell_type": "markdown",
   "id": "40977fc4",
   "metadata": {},
   "source": [
    "Yes Multiple outliers exist based on weight and height"
   ]
  },
  {
   "cell_type": "markdown",
   "id": "bfe4cdf3",
   "metadata": {},
   "source": [
    "# Q2 Remove outliers from hp, then find the average hp by generation. Does the trend change after outlier removal?"
   ]
  },
  {
   "cell_type": "code",
   "execution_count": 7,
   "id": "25969629",
   "metadata": {},
   "outputs": [
    {
     "data": {
      "application/vnd.microsoft.datawrangler.viewer.v0+json": {
       "columns": [
        {
         "name": "index",
         "rawType": "object",
         "type": "string"
        },
        {
         "name": "hp",
         "rawType": "float64",
         "type": "float"
        }
       ],
       "ref": "129738d8-f0ec-4ac0-9bbd-c4c9426cd176",
       "rows": [
        [
         "count",
         "898.0"
        ],
        [
         "mean",
         "69.03118040089088"
        ],
        [
         "std",
         "26.21370723473887"
        ],
        [
         "min",
         "1.0"
        ],
        [
         "25%",
         "50.0"
        ],
        [
         "50%",
         "65.0"
        ],
        [
         "75%",
         "80.0"
        ],
        [
         "max",
         "255.0"
        ]
       ],
       "shape": {
        "columns": 1,
        "rows": 8
       }
      },
      "text/plain": [
       "count    898.000000\n",
       "mean      69.031180\n",
       "std       26.213707\n",
       "min        1.000000\n",
       "25%       50.000000\n",
       "50%       65.000000\n",
       "75%       80.000000\n",
       "max      255.000000\n",
       "Name: hp, dtype: float64"
      ]
     },
     "execution_count": 7,
     "metadata": {},
     "output_type": "execute_result"
    }
   ],
   "source": [
    "df[\"hp\"].describe()"
   ]
  },
  {
   "cell_type": "code",
   "execution_count": 8,
   "id": "ffdd70c7",
   "metadata": {},
   "outputs": [
    {
     "data": {
      "image/png": "[encoded data removed]",
      "text/plain": [
       "<Figure size 640x480 with 1 Axes>"
      ]
     },
     "metadata": {},
     "output_type": "display_data"
    },
    {
     "name": "stdout",
     "output_type": "stream",
     "text": [
      "before removing outliers, mean health(hp) : \n",
      " gen\n",
      "I       64.211921\n",
      "II      70.980000\n",
      "III     65.666667\n",
      "IV      73.102804\n",
      "V       70.314103\n",
      "VI      68.916667\n",
      "VII     71.011364\n",
      "VIII    71.112360\n",
      "Name: hp, dtype: float64\n"
     ]
    }
   ],
   "source": [
    "sns.boxplot(y = df[\"hp\"])\n",
    "plt.show()\n",
    "\n",
    "print(\"before removing outliers, mean health(hp) : \\n\" , df.groupby(\"gen\")[\"hp\"].mean())"
   ]
  },
  {
   "cell_type": "code",
   "execution_count": 9,
   "id": "466c15be",
   "metadata": {},
   "outputs": [
    {
     "name": "stdout",
     "output_type": "stream",
     "text": [
      "after removing outliers, mean hp: \n",
      " gen\n",
      "I       60.863014\n",
      "II      67.887755\n",
      "III     63.615385\n",
      "IV      71.028846\n",
      "V       69.703226\n",
      "VI      67.285714\n",
      "VII     66.869048\n",
      "VIII    68.839080\n",
      "Name: hp, dtype: float64\n"
     ]
    }
   ],
   "source": [
    "Q1 = df['hp'].quantile(0.25)  \n",
    "Q3 = df['hp'].quantile(0.75)  \n",
    "\n",
    "IQR = Q3 - Q1\n",
    "\n",
    "lower = Q1 - 1.5 * IQR\n",
    "upper = Q3 + 1.5 * IQR\n",
    "\n",
    "df = df[(df['hp'] >= lower) &(df['hp'] <= upper)]\n",
    "\n",
    "print(\"after removing outliers, mean hp: \\n\" , df.groupby(\"gen\")[\"hp\"].mean())"
   ]
  },
  {
   "cell_type": "markdown",
   "id": "d64cdf04",
   "metadata": {},
   "source": [
    "## Question 3\n",
    "### Use Z-score to find unusual values in attack. What are the top 5 outliers?"
   ]
  },
  {
   "cell_type": "code",
   "execution_count": 10,
   "id": "b3d86602",
   "metadata": {},
   "outputs": [
    {
     "name": "stdout",
     "output_type": "stream",
     "text": [
      "    english_name  attack  attack_zscore\n",
      "797      Kartana     181       3.577481\n",
      "408    Rampardos     165       3.031603\n",
      "485    Regigigas     160       2.861016\n",
      "382      Groudon     150       2.519843\n",
      "383     Rayquaza     150       2.519843\n"
     ]
    },
    {
     "name": "stderr",
     "output_type": "stream",
     "text": [
      "C:\\Users\\Shreyas S Hegde\\AppData\\Local\\Temp\\ipykernel_22688\\3385331265.py:4: SettingWithCopyWarning: \n",
      "A value is trying to be set on a copy of a slice from a DataFrame.\n",
      "Try using .loc[row_indexer,col_indexer] = value instead\n",
      "\n",
      "See the caveats in the documentation: https://pandas.pydata.org/pandas-docs/stable/user_guide/indexing.html#returning-a-view-versus-a-copy\n",
      "  df['attack_zscore'] = (df['attack'] - mean_attack) / std_attack\n"
     ]
    }
   ],
   "source": [
    "mean_attack = df['attack'].mean()\n",
    "std_attack = df['attack'].std()\n",
    "\n",
    "df['attack_zscore'] = (df['attack'] - mean_attack) / std_attack\n",
    "\n",
    "x = df.loc[df['attack_zscore'].nlargest(5).index]\n",
    "print(x[['english_name', 'attack', 'attack_zscore']])\n"
   ]
  },
  {
   "cell_type": "markdown",
   "id": "054a73c5",
   "metadata": {},
   "source": [
    "## Question 4\n",
    "### How does the average attack vary across different primary_types?"
   ]
  },
  {
   "cell_type": "code",
   "execution_count": 11,
   "id": "c5f25371",
   "metadata": {},
   "outputs": [
    {
     "data": {
      "application/vnd.microsoft.datawrangler.viewer.v0+json": {
       "columns": [
        {
         "name": "primary_type",
         "rawType": "object",
         "type": "string"
        },
        {
         "name": "attack",
         "rawType": "float64",
         "type": "float"
        }
       ],
       "ref": "10a96480-dc31-4d34-ab70-08ab9b1b47c5",
       "rows": [
        [
         "bug",
         "65.93243243243244"
        ],
        [
         "dark",
         "82.5"
        ],
        [
         "dragon",
         "98.76666666666667"
        ],
        [
         "electric",
         "73.89795918367346"
        ],
        [
         "fairy",
         "59.85"
        ],
        [
         "fighting",
         "99.37142857142857"
        ],
        [
         "fire",
         "83.74137931034483"
        ],
        [
         "flying",
         "71.57142857142857"
        ],
        [
         "ghost",
         "68.06896551724138"
        ],
        [
         "grass",
         "72.76744186046511"
        ],
        [
         "ground",
         "92.65714285714286"
        ],
        [
         "ice",
         "73.07142857142857"
        ],
        [
         "normal",
         "73.89320388349515"
        ],
        [
         "poison",
         "72.67647058823529"
        ],
        [
         "psychic",
         "61.85454545454545"
        ],
        [
         "rock",
         "87.12"
        ],
        [
         "steel",
         "86.6896551724138"
        ],
        [
         "water",
         "70.94915254237289"
        ]
       ],
       "shape": {
        "columns": 1,
        "rows": 18
       }
      },
      "text/plain": [
       "primary_type\n",
       "bug         65.932432\n",
       "dark        82.500000\n",
       "dragon      98.766667\n",
       "electric    73.897959\n",
       "fairy       59.850000\n",
       "fighting    99.371429\n",
       "fire        83.741379\n",
       "flying      71.571429\n",
       "ghost       68.068966\n",
       "grass       72.767442\n",
       "ground      92.657143\n",
       "ice         73.071429\n",
       "normal      73.893204\n",
       "poison      72.676471\n",
       "psychic     61.854545\n",
       "rock        87.120000\n",
       "steel       86.689655\n",
       "water       70.949153\n",
       "Name: attack, dtype: float64"
      ]
     },
     "execution_count": 11,
     "metadata": {},
     "output_type": "execute_result"
    }
   ],
   "source": [
    "df.groupby('primary_type')['attack'].mean()"
   ]
  },
  {
   "cell_type": "markdown",
   "id": "ff4eccbb",
   "metadata": {},
   "source": [
    " Lowest for fairy and highest for fighting"
   ]
  },
  {
   "cell_type": "code",
   "execution_count": null,
   "id": "a0b7c2c7",
   "metadata": {},
   "outputs": [],
   "source": []
  },
  {
   "cell_type": "markdown",
   "id": "4f643198",
   "metadata": {},
   "source": [
    "## Question 5\n",
    "### Find the average HP of Pokémon from each generation."
   ]
  },
  {
   "cell_type": "code",
   "execution_count": 12,
   "id": "b103bfa4",
   "metadata": {},
   "outputs": [
    {
     "data": {
      "image/png": "[encoded data removed]",
      "text/plain": [
       "<Figure size 640x480 with 1 Axes>"
      ]
     },
     "metadata": {},
     "output_type": "display_data"
    }
   ],
   "source": [
    "df.groupby(\"gen\")[\"hp\"].mean()\n",
    "\n",
    "sns.barplot(df.groupby(\"gen\")[\"hp\"].mean())\n",
    "plt.show()"
   ]
  },
  {
   "cell_type": "markdown",
   "id": "10fcf657",
   "metadata": {},
   "source": [
    "## Question 6\n",
    "### How many Pokémon have a secondary type?"
   ]
  },
  {
   "cell_type": "code",
   "execution_count": 13,
   "id": "9a6b6b4e",
   "metadata": {},
   "outputs": [
    {
     "data": {
      "text/plain": [
       "np.int64(459)"
      ]
     },
     "execution_count": 13,
     "metadata": {},
     "output_type": "execute_result"
    }
   ],
   "source": [
    "(df['secondary_type'] != 0).sum()"
   ]
  },
  {
   "cell_type": "markdown",
   "id": "5f6f8cee",
   "metadata": {},
   "source": [
    "## Question 7\n",
    "### Which secondary types appear most frequently with Water as the primary type?"
   ]
  },
  {
   "cell_type": "code",
   "execution_count": 14,
   "id": "8bd6d225",
   "metadata": {},
   "outputs": [
    {
     "data": {
      "application/vnd.microsoft.datawrangler.viewer.v0+json": {
       "columns": [
        {
         "name": "secondary_type",
         "rawType": "object",
         "type": "unknown"
        },
        {
         "name": "0",
         "rawType": "int64",
         "type": "integer"
        }
       ],
       "ref": "9836343e-30cb-41b0-b38b-8a5eb2a63420",
       "rows": [
        [
         "0",
         "63"
        ],
        [
         "bug",
         "2"
        ],
        [
         "dark",
         "4"
        ],
        [
         "dragon",
         "3"
        ],
        [
         "electric",
         "2"
        ],
        [
         "fairy",
         "4"
        ],
        [
         "fighting",
         "2"
        ],
        [
         "flying",
         "7"
        ],
        [
         "ghost",
         "2"
        ],
        [
         "grass",
         "3"
        ],
        [
         "ground",
         "9"
        ],
        [
         "ice",
         "3"
        ],
        [
         "poison",
         "3"
        ],
        [
         "psychic",
         "5"
        ],
        [
         "rock",
         "5"
        ],
        [
         "steel",
         "1"
        ]
       ],
       "shape": {
        "columns": 1,
        "rows": 16
       }
      },
      "text/plain": [
       "secondary_type\n",
       "0           63\n",
       "bug          2\n",
       "dark         4\n",
       "dragon       3\n",
       "electric     2\n",
       "fairy        4\n",
       "fighting     2\n",
       "flying       7\n",
       "ghost        2\n",
       "grass        3\n",
       "ground       9\n",
       "ice          3\n",
       "poison       3\n",
       "psychic      5\n",
       "rock         5\n",
       "steel        1\n",
       "dtype: int64"
      ]
     },
     "execution_count": 14,
     "metadata": {},
     "output_type": "execute_result"
    }
   ],
   "source": [
    "water = df[(df['primary_type'] == 'water')]\n",
    "\n",
    "water.groupby(\"secondary_type\").size()"
   ]
  },
  {
   "cell_type": "markdown",
   "id": "9fcc272c",
   "metadata": {},
   "source": [
    "## Question 8\n",
    "### Compare the average total stat of Pokémon who are Legendary, Sub-Legendary, and Mythical.What insights do you find?"
   ]
  },
  {
   "cell_type": "code",
   "execution_count": 15,
   "id": "44661986",
   "metadata": {},
   "outputs": [
    {
     "name": "stderr",
     "output_type": "stream",
     "text": [
      "C:\\Users\\Shreyas S Hegde\\AppData\\Local\\Temp\\ipykernel_22688\\75742349.py:13: SettingWithCopyWarning: \n",
      "A value is trying to be set on a copy of a slice from a DataFrame.\n",
      "Try using .loc[row_indexer,col_indexer] = value instead\n",
      "\n",
      "See the caveats in the documentation: https://pandas.pydata.org/pandas-docs/stable/user_guide/indexing.html#returning-a-view-versus-a-copy\n",
      "  df['status'] = status_list\n"
     ]
    },
    {
     "data": {
      "application/vnd.microsoft.datawrangler.viewer.v0+json": {
       "columns": [
        {
         "name": "status",
         "rawType": "object",
         "type": "string"
        },
        {
         "name": "hp",
         "rawType": "float64",
         "type": "float"
        },
        {
         "name": "attack",
         "rawType": "float64",
         "type": "float"
        },
        {
         "name": "defense",
         "rawType": "float64",
         "type": "float"
        },
        {
         "name": "sp_attack",
         "rawType": "float64",
         "type": "float"
        },
        {
         "name": "sp_defense",
         "rawType": "float64",
         "type": "float"
        },
        {
         "name": "speed",
         "rawType": "float64",
         "type": "float"
        }
       ],
       "ref": "a81c44fb-042c-42c9-bbf2-0e10dd6743e9",
       "rows": [
        [
         "Legendary",
         "95.26666666666667",
         "109.0",
         "102.93333333333334",
         "114.66666666666667",
         "106.26666666666667",
         "87.86666666666666"
        ],
        [
         "Mythical",
         "84.8",
         "101.3",
         "93.35",
         "110.95",
         "97.15",
         "96.45"
        ],
        [
         "Normal",
         "64.76758793969849",
         "73.4786432160804",
         "69.52261306532664",
         "65.79145728643216",
         "66.94597989949749",
         "63.35050251256281"
        ],
        [
         "Sub-Legendary",
         "84.55813953488372",
         "102.27906976744185",
         "97.30232558139535",
         "98.79069767441861",
         "94.90697674418605",
         "92.6046511627907"
        ]
       ],
       "shape": {
        "columns": 6,
        "rows": 4
       }
      },
      "text/html": [
       "<div>\n",
       "<style scoped>\n",
       "    .dataframe tbody tr th:only-of-type {\n",
       "        vertical-align: middle;\n",
       "    }\n",
       "\n",
       "    .dataframe tbody tr th {\n",
       "        vertical-align: top;\n",
       "    }\n",
       "\n",
       "    .dataframe thead th {\n",
       "        text-align: right;\n",
       "    }\n",
       "</style>\n",
       "<table border=\"1\" class=\"dataframe\">\n",
       "  <thead>\n",
       "    <tr style=\"text-align: right;\">\n",
       "      <th></th>\n",
       "      <th>hp</th>\n",
       "      <th>attack</th>\n",
       "      <th>defense</th>\n",
       "      <th>sp_attack</th>\n",
       "      <th>sp_defense</th>\n",
       "      <th>speed</th>\n",
       "    </tr>\n",
       "    <tr>\n",
       "      <th>status</th>\n",
       "      <th></th>\n",
       "      <th></th>\n",
       "      <th></th>\n",
       "      <th></th>\n",
       "      <th></th>\n",
       "      <th></th>\n",
       "    </tr>\n",
       "  </thead>\n",
       "  <tbody>\n",
       "    <tr>\n",
       "      <th>Legendary</th>\n",
       "      <td>95.266667</td>\n",
       "      <td>109.000000</td>\n",
       "      <td>102.933333</td>\n",
       "      <td>114.666667</td>\n",
       "      <td>106.266667</td>\n",
       "      <td>87.866667</td>\n",
       "    </tr>\n",
       "    <tr>\n",
       "      <th>Mythical</th>\n",
       "      <td>84.800000</td>\n",
       "      <td>101.300000</td>\n",
       "      <td>93.350000</td>\n",
       "      <td>110.950000</td>\n",
       "      <td>97.150000</td>\n",
       "      <td>96.450000</td>\n",
       "    </tr>\n",
       "    <tr>\n",
       "      <th>Normal</th>\n",
       "      <td>64.767588</td>\n",
       "      <td>73.478643</td>\n",
       "      <td>69.522613</td>\n",
       "      <td>65.791457</td>\n",
       "      <td>66.945980</td>\n",
       "      <td>63.350503</td>\n",
       "    </tr>\n",
       "    <tr>\n",
       "      <th>Sub-Legendary</th>\n",
       "      <td>84.558140</td>\n",
       "      <td>102.279070</td>\n",
       "      <td>97.302326</td>\n",
       "      <td>98.790698</td>\n",
       "      <td>94.906977</td>\n",
       "      <td>92.604651</td>\n",
       "    </tr>\n",
       "  </tbody>\n",
       "</table>\n",
       "</div>"
      ],
      "text/plain": [
       "                      hp      attack     defense   sp_attack  sp_defense  \\\n",
       "status                                                                     \n",
       "Legendary      95.266667  109.000000  102.933333  114.666667  106.266667   \n",
       "Mythical       84.800000  101.300000   93.350000  110.950000   97.150000   \n",
       "Normal         64.767588   73.478643   69.522613   65.791457   66.945980   \n",
       "Sub-Legendary  84.558140  102.279070   97.302326   98.790698   94.906977   \n",
       "\n",
       "                   speed  \n",
       "status                    \n",
       "Legendary      87.866667  \n",
       "Mythical       96.450000  \n",
       "Normal         63.350503  \n",
       "Sub-Legendary  92.604651  "
      ]
     },
     "execution_count": 15,
     "metadata": {},
     "output_type": "execute_result"
    }
   ],
   "source": [
    "status_list = []\n",
    "\n",
    "for i in range(len(df)):\n",
    "    if df.iloc[i]['is_mythical'] == 1:\n",
    "        status_list.append(\"Mythical\")\n",
    "    elif df.iloc[i]['is_legendary'] == 1:\n",
    "        status_list.append(\"Legendary\")\n",
    "    elif df.iloc[i]['is_sublegendary'] == 1:\n",
    "        status_list.append(\"Sub-Legendary\")\n",
    "    else:\n",
    "        status_list.append(\"Normal\")\n",
    "\n",
    "df['status'] = status_list\n",
    "\n",
    "df.groupby('status')[['hp', 'attack', 'defense', 'sp_attack', 'sp_defense', 'speed']].mean()\n"
   ]
  },
  {
   "cell_type": "markdown",
   "id": "73c43859",
   "metadata": {},
   "source": [
    "## Question 9\n",
    "### Create a heatmap of correlations between all stat columns. What pairs are most correlated?"
   ]
  },
  {
   "cell_type": "code",
   "execution_count": 16,
   "id": "e22bf1c3",
   "metadata": {},
   "outputs": [
    {
     "data": {
      "image/png": "[encoded data removed]",
      "text/plain": [
       "<Figure size 640x480 with 2 Axes>"
      ]
     },
     "metadata": {},
     "output_type": "display_data"
    }
   ],
   "source": [
    "corr = df[['hp', 'attack', 'defense', 'sp_attack', 'sp_defense', 'speed']].corr()\n",
    "\n",
    "sns.heatmap(corr, annot=True)\n",
    "plt.show()"
   ]
  },
  {
   "cell_type": "code",
   "execution_count": 17,
   "id": "2e9c264a",
   "metadata": {},
   "outputs": [
    {
     "data": {
      "image/png": "[encoded data removed]",
      "text/plain": [
       "<Figure size 800x600 with 1 Axes>"
      ]
     },
     "metadata": {},
     "output_type": "display_data"
    }
   ],
   "source": [
    "plt.figure(figsize=(8,6))\n",
    "sns.histplot(df['speed'], kde=True, edgecolor='black')\n",
    "plt.title(\"Distribution of Pokémon Speed\")\n",
    "plt.xlabel(\"Speed\")\n",
    "plt.ylabel(\"Count\")\n",
    "plt.show()"
   ]
  },
  {
   "cell_type": "markdown",
   "id": "5f65d82e",
   "metadata": {},
   "source": [
    "## Question 12\n",
    "### Visualize the number of Pokémon who can Gigantamax vs those who can't."
   ]
  },
  {
   "cell_type": "code",
   "execution_count": 19,
   "id": "d653ec02",
   "metadata": {},
   "outputs": [
    {
     "name": "stderr",
     "output_type": "stream",
     "text": [
      "C:\\Users\\Shreyas S Hegde\\AppData\\Local\\Temp\\ipykernel_22688\\2250394326.py:9: SettingWithCopyWarning: \n",
      "A value is trying to be set on a copy of a slice from a DataFrame.\n",
      "Try using .loc[row_indexer,col_indexer] = value instead\n",
      "\n",
      "See the caveats in the documentation: https://pandas.pydata.org/pandas-docs/stable/user_guide/indexing.html#returning-a-view-versus-a-copy\n",
      "  df['can_gigantamax'] = gigantamax_status\n"
     ]
    },
    {
     "data": {
      "image/png": "[encoded data removed]",
      "text/plain": [
       "<Figure size 640x480 with 1 Axes>"
      ]
     },
     "metadata": {},
     "output_type": "display_data"
    }
   ],
   "source": [
    "gigantamax_status = []\n",
    "\n",
    "for i in df.index:\n",
    "    if df.loc[i, 'gigantamax'] == 0:\n",
    "        gigantamax_status.append(0)\n",
    "    else:\n",
    "        gigantamax_status.append(1)\n",
    "\n",
    "df['can_gigantamax'] = gigantamax_status\n",
    "\n",
    "counts = df['can_gigantamax'].value_counts().sort_index()\n",
    "\n",
    "counts.plot.pie(\n",
    "    autopct='%1.1f%%',\n",
    "    labels=[\"Can not\", \"Can\"],\n",
    ")\n",
    "\n",
    "plt.title(\"Gigantamax Pokémon Ratio\")\n",
    "plt.show()\n"
   ]
  },
  {
   "cell_type": "code",
   "execution_count": null,
   "id": "fd490856",
   "metadata": {},
   "outputs": [],
   "source": []
  }
 ],
 "metadata": {
  "kernelspec": {
   "display_name": "Python 3",
   "language": "python",
   "name": "python3"
  },
  "language_info": {
   "codemirror_mode": {
    "name": "ipython",
    "version": 3
   },
   "file_extension": ".py",
   "mimetype": "text/x-python",
   "name": "python",
   "nbconvert_exporter": "python",
   "pygments_lexer": "ipython3",
   "version": "3.13.3"
  }
 },
 "nbformat": 4,
 "nbformat_minor": 5
}
