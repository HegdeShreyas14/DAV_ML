{
 "cells": [
  {
   "cell_type": "markdown",
   "id": "497a6e26",
   "metadata": {},
   "source": [
    "Name:Shreyas S Hegde \n",
    "Registration number:240905118\n",
    "Week 1 DAV-ML workbook"
   ]
  },
  {
   "cell_type": "code",
   "execution_count": 55,
   "id": "df684790",
   "metadata": {},
   "outputs": [],
   "source": [
    "import pandas as pd\n",
    "import numpy as np\n",
    "import matplotlib as plt\n",
    "import seaborn as sns"
   ]
  },
  {
   "cell_type": "code",
   "execution_count": 56,
   "id": "5c1e9369",
   "metadata": {},
   "outputs": [
    {
     "name": "stdout",
     "output_type": "stream",
     "text": [
      "<class 'pandas.core.frame.DataFrame'>\n",
      "RangeIndex: 500 entries, 0 to 499\n",
      "Data columns (total 7 columns):\n",
      " #   Column        Non-Null Count  Dtype \n",
      "---  ------        --------------  ----- \n",
      " 0   title         500 non-null    object\n",
      " 1   director      336 non-null    object\n",
      " 2   cast          459 non-null    object\n",
      " 3   country       454 non-null    object\n",
      " 4   date_added    500 non-null    object\n",
      " 5   release_year  500 non-null    int64 \n",
      " 6   duration      500 non-null    object\n",
      "dtypes: int64(1), object(6)\n",
      "memory usage: 27.5+ KB\n"
     ]
    }
   ],
   "source": [
    "netflix_df=pd.read_csv(\"netflix_sample_500.csv\")\n",
    "netflix_df.info()"
   ]
  },
  {
   "cell_type": "code",
   "execution_count": 57,
   "id": "094fffef",
   "metadata": {},
   "outputs": [
    {
     "data": {
      "application/vnd.microsoft.datawrangler.viewer.v0+json": {
       "columns": [
        {
         "name": "index",
         "rawType": "object",
         "type": "string"
        },
        {
         "name": "release_year",
         "rawType": "float64",
         "type": "float"
        }
       ],
       "ref": "ee3ab291-7774-49ef-9388-03a96846a5dc",
       "rows": [
        [
         "count",
         "500.0"
        ],
        [
         "mean",
         "2014.034"
        ],
        [
         "std",
         "9.50797808656442"
        ],
        [
         "min",
         "1943.0"
        ],
        [
         "25%",
         "2013.0"
        ],
        [
         "50%",
         "2017.0"
        ],
        [
         "75%",
         "2019.0"
        ],
        [
         "max",
         "2021.0"
        ]
       ],
       "shape": {
        "columns": 1,
        "rows": 8
       }
      },
      "text/html": [
       "<div>\n",
       "<style scoped>\n",
       "    .dataframe tbody tr th:only-of-type {\n",
       "        vertical-align: middle;\n",
       "    }\n",
       "\n",
       "    .dataframe tbody tr th {\n",
       "        vertical-align: top;\n",
       "    }\n",
       "\n",
       "    .dataframe thead th {\n",
       "        text-align: right;\n",
       "    }\n",
       "</style>\n",
       "<table border=\"1\" class=\"dataframe\">\n",
       "  <thead>\n",
       "    <tr style=\"text-align: right;\">\n",
       "      <th></th>\n",
       "      <th>release_year</th>\n",
       "    </tr>\n",
       "  </thead>\n",
       "  <tbody>\n",
       "    <tr>\n",
       "      <th>count</th>\n",
       "      <td>500.000000</td>\n",
       "    </tr>\n",
       "    <tr>\n",
       "      <th>mean</th>\n",
       "      <td>2014.034000</td>\n",
       "    </tr>\n",
       "    <tr>\n",
       "      <th>std</th>\n",
       "      <td>9.507978</td>\n",
       "    </tr>\n",
       "    <tr>\n",
       "      <th>min</th>\n",
       "      <td>1943.000000</td>\n",
       "    </tr>\n",
       "    <tr>\n",
       "      <th>25%</th>\n",
       "      <td>2013.000000</td>\n",
       "    </tr>\n",
       "    <tr>\n",
       "      <th>50%</th>\n",
       "      <td>2017.000000</td>\n",
       "    </tr>\n",
       "    <tr>\n",
       "      <th>75%</th>\n",
       "      <td>2019.000000</td>\n",
       "    </tr>\n",
       "    <tr>\n",
       "      <th>max</th>\n",
       "      <td>2021.000000</td>\n",
       "    </tr>\n",
       "  </tbody>\n",
       "</table>\n",
       "</div>"
      ],
      "text/plain": [
       "       release_year\n",
       "count    500.000000\n",
       "mean    2014.034000\n",
       "std        9.507978\n",
       "min     1943.000000\n",
       "25%     2013.000000\n",
       "50%     2017.000000\n",
       "75%     2019.000000\n",
       "max     2021.000000"
      ]
     },
     "execution_count": 57,
     "metadata": {},
     "output_type": "execute_result"
    }
   ],
   "source": [
    "netflix_df.describe()"
   ]
  },
  {
   "cell_type": "markdown",
   "id": "b948d761",
   "metadata": {},
   "source": [
    "# Q1 How many columns and rows?"
   ]
  },
  {
   "cell_type": "code",
   "execution_count": 58,
   "id": "15e84e5d",
   "metadata": {},
   "outputs": [
    {
     "name": "stdout",
     "output_type": "stream",
     "text": [
      "Rows: 500\n",
      "Columns: 7\n"
     ]
    }
   ],
   "source": [
    "print(\"Rows:\",netflix_df.shape[0])\n",
    "print(\"Columns:\",netflix_df.shape[1])"
   ]
  },
  {
   "cell_type": "markdown",
   "id": "6670d964",
   "metadata": {},
   "source": [
    "# Q2 Print names of all the columns"
   ]
  },
  {
   "cell_type": "code",
   "execution_count": 59,
   "id": "676591af",
   "metadata": {},
   "outputs": [
    {
     "data": {
      "text/plain": [
       "Index(['title', 'director', 'cast', 'country', 'date_added', 'release_year',\n",
       "       'duration'],\n",
       "      dtype='object')"
      ]
     },
     "execution_count": 59,
     "metadata": {},
     "output_type": "execute_result"
    }
   ],
   "source": [
    "netflix_df.columns"
   ]
  },
  {
   "cell_type": "markdown",
   "id": "f9936a65",
   "metadata": {},
   "source": [
    "# Q3 Display the first 5 and last 3 rows of the dataset."
   ]
  },
  {
   "cell_type": "code",
   "execution_count": 60,
   "id": "cebcefd1",
   "metadata": {},
   "outputs": [
    {
     "data": {
      "application/vnd.microsoft.datawrangler.viewer.v0+json": {
       "columns": [
        {
         "name": "index",
         "rawType": "int64",
         "type": "integer"
        },
        {
         "name": "title",
         "rawType": "object",
         "type": "string"
        },
        {
         "name": "director",
         "rawType": "object",
         "type": "unknown"
        },
        {
         "name": "cast",
         "rawType": "object",
         "type": "unknown"
        },
        {
         "name": "country",
         "rawType": "object",
         "type": "string"
        },
        {
         "name": "date_added",
         "rawType": "object",
         "type": "string"
        },
        {
         "name": "release_year",
         "rawType": "int64",
         "type": "integer"
        },
        {
         "name": "duration",
         "rawType": "object",
         "type": "string"
        }
       ],
       "ref": "968b59e5-060d-41ef-b184-2b351b0d234b",
       "rows": [
        [
         "0",
         "Game Over, Man!",
         "Kyle Newacheck",
         "Adam DeVine, Anders Holm, Blake Anderson, Utkarsh Ambudkar, Aya Cash, Neal McDonough, Daniel Stern, Jamie Demetriou, Rhona Mitra, Sam Richardson, Steve Howey, Mac Brandt, Geno Segers, Roe Hartrampf",
         "United States",
         "March 23, 2018",
         "2018",
         "102 min"
        ],
        [
         "1",
         "Arsenio Hall: Smart & Classy",
         "Brian Volk-Weiss",
         "Arsenio Hall",
         "United States",
         "October 29, 2019",
         "2019",
         "63 min"
        ],
        [
         "2",
         "Kazoops!",
         null,
         "Reece Pockney, Scott Langley, Alex Babic, Gemma Harvey, Jessica Hann, Emma Tate",
         "Australia",
         "May 5, 2017",
         "2017",
         "3 Seasons"
        ],
        [
         "3",
         "We Are the Champions",
         null,
         null,
         "United States",
         "November 17, 2020",
         "2020",
         "1 Season"
        ],
        [
         "4",
         "Pablo Escobar, el patrón del mal",
         null,
         "Andrés Parra, Angie Cepeda, Cecilia Navia, Vicky Hernández, Christian Tappan, Rodolfo Silva, Tommy Vásquez, Toto Vega, Nicolás Montero, Marcela Gallego",
         "Colombia",
         "February 3, 2021",
         "2012",
         "1 Season"
        ]
       ],
       "shape": {
        "columns": 7,
        "rows": 5
       }
      },
      "text/html": [
       "<div>\n",
       "<style scoped>\n",
       "    .dataframe tbody tr th:only-of-type {\n",
       "        vertical-align: middle;\n",
       "    }\n",
       "\n",
       "    .dataframe tbody tr th {\n",
       "        vertical-align: top;\n",
       "    }\n",
       "\n",
       "    .dataframe thead th {\n",
       "        text-align: right;\n",
       "    }\n",
       "</style>\n",
       "<table border=\"1\" class=\"dataframe\">\n",
       "  <thead>\n",
       "    <tr style=\"text-align: right;\">\n",
       "      <th></th>\n",
       "      <th>title</th>\n",
       "      <th>director</th>\n",
       "      <th>cast</th>\n",
       "      <th>country</th>\n",
       "      <th>date_added</th>\n",
       "      <th>release_year</th>\n",
       "      <th>duration</th>\n",
       "    </tr>\n",
       "  </thead>\n",
       "  <tbody>\n",
       "    <tr>\n",
       "      <th>0</th>\n",
       "      <td>Game Over, Man!</td>\n",
       "      <td>Kyle Newacheck</td>\n",
       "      <td>Adam DeVine, Anders Holm, Blake Anderson, Utka...</td>\n",
       "      <td>United States</td>\n",
       "      <td>March 23, 2018</td>\n",
       "      <td>2018</td>\n",
       "      <td>102 min</td>\n",
       "    </tr>\n",
       "    <tr>\n",
       "      <th>1</th>\n",
       "      <td>Arsenio Hall: Smart &amp; Classy</td>\n",
       "      <td>Brian Volk-Weiss</td>\n",
       "      <td>Arsenio Hall</td>\n",
       "      <td>United States</td>\n",
       "      <td>October 29, 2019</td>\n",
       "      <td>2019</td>\n",
       "      <td>63 min</td>\n",
       "    </tr>\n",
       "    <tr>\n",
       "      <th>2</th>\n",
       "      <td>Kazoops!</td>\n",
       "      <td>NaN</td>\n",
       "      <td>Reece Pockney, Scott Langley, Alex Babic, Gemm...</td>\n",
       "      <td>Australia</td>\n",
       "      <td>May 5, 2017</td>\n",
       "      <td>2017</td>\n",
       "      <td>3 Seasons</td>\n",
       "    </tr>\n",
       "    <tr>\n",
       "      <th>3</th>\n",
       "      <td>We Are the Champions</td>\n",
       "      <td>NaN</td>\n",
       "      <td>NaN</td>\n",
       "      <td>United States</td>\n",
       "      <td>November 17, 2020</td>\n",
       "      <td>2020</td>\n",
       "      <td>1 Season</td>\n",
       "    </tr>\n",
       "    <tr>\n",
       "      <th>4</th>\n",
       "      <td>Pablo Escobar, el patrón del mal</td>\n",
       "      <td>NaN</td>\n",
       "      <td>Andrés Parra, Angie Cepeda, Cecilia Navia, Vic...</td>\n",
       "      <td>Colombia</td>\n",
       "      <td>February 3, 2021</td>\n",
       "      <td>2012</td>\n",
       "      <td>1 Season</td>\n",
       "    </tr>\n",
       "  </tbody>\n",
       "</table>\n",
       "</div>"
      ],
      "text/plain": [
       "                              title          director  \\\n",
       "0                   Game Over, Man!    Kyle Newacheck   \n",
       "1      Arsenio Hall: Smart & Classy  Brian Volk-Weiss   \n",
       "2                          Kazoops!               NaN   \n",
       "3              We Are the Champions               NaN   \n",
       "4  Pablo Escobar, el patrón del mal               NaN   \n",
       "\n",
       "                                                cast        country  \\\n",
       "0  Adam DeVine, Anders Holm, Blake Anderson, Utka...  United States   \n",
       "1                                       Arsenio Hall  United States   \n",
       "2  Reece Pockney, Scott Langley, Alex Babic, Gemm...      Australia   \n",
       "3                                                NaN  United States   \n",
       "4  Andrés Parra, Angie Cepeda, Cecilia Navia, Vic...       Colombia   \n",
       "\n",
       "          date_added  release_year   duration  \n",
       "0     March 23, 2018          2018    102 min  \n",
       "1   October 29, 2019          2019     63 min  \n",
       "2        May 5, 2017          2017  3 Seasons  \n",
       "3  November 17, 2020          2020   1 Season  \n",
       "4   February 3, 2021          2012   1 Season  "
      ]
     },
     "metadata": {},
     "output_type": "display_data"
    },
    {
     "name": "stdout",
     "output_type": "stream",
     "text": [
      "==========================================================================================================\n"
     ]
    },
    {
     "data": {
      "application/vnd.microsoft.datawrangler.viewer.v0+json": {
       "columns": [
        {
         "name": "index",
         "rawType": "int64",
         "type": "integer"
        },
        {
         "name": "title",
         "rawType": "object",
         "type": "string"
        },
        {
         "name": "director",
         "rawType": "object",
         "type": "unknown"
        },
        {
         "name": "cast",
         "rawType": "object",
         "type": "string"
        },
        {
         "name": "country",
         "rawType": "object",
         "type": "unknown"
        },
        {
         "name": "date_added",
         "rawType": "object",
         "type": "string"
        },
        {
         "name": "release_year",
         "rawType": "int64",
         "type": "integer"
        },
        {
         "name": "duration",
         "rawType": "object",
         "type": "string"
        }
       ],
       "ref": "87bf45a4-0b14-41a7-8a98-545029f6b5cf",
       "rows": [
        [
         "497",
         "Korean Cold Noodle Rhapsody",
         null,
         "Paik Jong-won",
         null,
         "August 20, 2021",
         "2021",
         "1 Season"
        ],
        [
         "498",
         "Look for a Star",
         "Andrew Lau Wai-Keung",
         "Andy Lau, Qi Shu, Zhang Hanyu, Denise Ho, Dominic Lam, Xinyi Zhang, David Chiang, George Lam, Rebecca Pan, Maria Cordero, Tat-Ming Cheung",
         "Hong Kong",
         "December 1, 2018",
         "2009",
         "117 min"
        ],
        [
         "499",
         "40 Sticks",
         "Victor Gatonye",
         "Robert Agengo, Mwaura Bilal, Andreo Kamau, Cajetan Boy, Arabron Nyyeneque, Shiviske Shivisi, Xavier Ywaya",
         "Kenya",
         "November 20, 2020",
         "2019",
         "93 min"
        ]
       ],
       "shape": {
        "columns": 7,
        "rows": 3
       }
      },
      "text/html": [
       "<div>\n",
       "<style scoped>\n",
       "    .dataframe tbody tr th:only-of-type {\n",
       "        vertical-align: middle;\n",
       "    }\n",
       "\n",
       "    .dataframe tbody tr th {\n",
       "        vertical-align: top;\n",
       "    }\n",
       "\n",
       "    .dataframe thead th {\n",
       "        text-align: right;\n",
       "    }\n",
       "</style>\n",
       "<table border=\"1\" class=\"dataframe\">\n",
       "  <thead>\n",
       "    <tr style=\"text-align: right;\">\n",
       "      <th></th>\n",
       "      <th>title</th>\n",
       "      <th>director</th>\n",
       "      <th>cast</th>\n",
       "      <th>country</th>\n",
       "      <th>date_added</th>\n",
       "      <th>release_year</th>\n",
       "      <th>duration</th>\n",
       "    </tr>\n",
       "  </thead>\n",
       "  <tbody>\n",
       "    <tr>\n",
       "      <th>497</th>\n",
       "      <td>Korean Cold Noodle Rhapsody</td>\n",
       "      <td>NaN</td>\n",
       "      <td>Paik Jong-won</td>\n",
       "      <td>NaN</td>\n",
       "      <td>August 20, 2021</td>\n",
       "      <td>2021</td>\n",
       "      <td>1 Season</td>\n",
       "    </tr>\n",
       "    <tr>\n",
       "      <th>498</th>\n",
       "      <td>Look for a Star</td>\n",
       "      <td>Andrew Lau Wai-Keung</td>\n",
       "      <td>Andy Lau, Qi Shu, Zhang Hanyu, Denise Ho, Domi...</td>\n",
       "      <td>Hong Kong</td>\n",
       "      <td>December 1, 2018</td>\n",
       "      <td>2009</td>\n",
       "      <td>117 min</td>\n",
       "    </tr>\n",
       "    <tr>\n",
       "      <th>499</th>\n",
       "      <td>40 Sticks</td>\n",
       "      <td>Victor Gatonye</td>\n",
       "      <td>Robert Agengo, Mwaura Bilal, Andreo Kamau, Caj...</td>\n",
       "      <td>Kenya</td>\n",
       "      <td>November 20, 2020</td>\n",
       "      <td>2019</td>\n",
       "      <td>93 min</td>\n",
       "    </tr>\n",
       "  </tbody>\n",
       "</table>\n",
       "</div>"
      ],
      "text/plain": [
       "                           title              director  \\\n",
       "497  Korean Cold Noodle Rhapsody                   NaN   \n",
       "498              Look for a Star  Andrew Lau Wai-Keung   \n",
       "499                    40 Sticks        Victor Gatonye   \n",
       "\n",
       "                                                  cast    country  \\\n",
       "497                                      Paik Jong-won        NaN   \n",
       "498  Andy Lau, Qi Shu, Zhang Hanyu, Denise Ho, Domi...  Hong Kong   \n",
       "499  Robert Agengo, Mwaura Bilal, Andreo Kamau, Caj...      Kenya   \n",
       "\n",
       "            date_added  release_year  duration  \n",
       "497    August 20, 2021          2021  1 Season  \n",
       "498   December 1, 2018          2009   117 min  \n",
       "499  November 20, 2020          2019    93 min  "
      ]
     },
     "metadata": {},
     "output_type": "display_data"
    }
   ],
   "source": [
    "display(netflix_df.head(5))\n",
    "print(\"==========================================================================================================\")\n",
    "display(netflix_df.tail(3))"
   ]
  },
  {
   "cell_type": "markdown",
   "id": "80885f80",
   "metadata": {},
   "source": [
    "# Q4\tSelect and display only the title and release_year columns."
   ]
  },
  {
   "cell_type": "code",
   "execution_count": 61,
   "id": "0f2dbea3",
   "metadata": {},
   "outputs": [
    {
     "data": {
      "application/vnd.microsoft.datawrangler.viewer.v0+json": {
       "columns": [
        {
         "name": "index",
         "rawType": "int64",
         "type": "integer"
        },
        {
         "name": "title",
         "rawType": "object",
         "type": "string"
        },
        {
         "name": "release_year",
         "rawType": "int64",
         "type": "integer"
        }
       ],
       "ref": "3e3b3453-e1a2-4e5d-8a9a-e7738c4fc45f",
       "rows": [
        [
         "0",
         "Game Over, Man!",
         "2018"
        ],
        [
         "1",
         "Arsenio Hall: Smart & Classy",
         "2019"
        ],
        [
         "2",
         "Kazoops!",
         "2017"
        ],
        [
         "3",
         "We Are the Champions",
         "2020"
        ],
        [
         "4",
         "Pablo Escobar, el patrón del mal",
         "2012"
        ]
       ],
       "shape": {
        "columns": 2,
        "rows": 5
       }
      },
      "text/html": [
       "<div>\n",
       "<style scoped>\n",
       "    .dataframe tbody tr th:only-of-type {\n",
       "        vertical-align: middle;\n",
       "    }\n",
       "\n",
       "    .dataframe tbody tr th {\n",
       "        vertical-align: top;\n",
       "    }\n",
       "\n",
       "    .dataframe thead th {\n",
       "        text-align: right;\n",
       "    }\n",
       "</style>\n",
       "<table border=\"1\" class=\"dataframe\">\n",
       "  <thead>\n",
       "    <tr style=\"text-align: right;\">\n",
       "      <th></th>\n",
       "      <th>title</th>\n",
       "      <th>release_year</th>\n",
       "    </tr>\n",
       "  </thead>\n",
       "  <tbody>\n",
       "    <tr>\n",
       "      <th>0</th>\n",
       "      <td>Game Over, Man!</td>\n",
       "      <td>2018</td>\n",
       "    </tr>\n",
       "    <tr>\n",
       "      <th>1</th>\n",
       "      <td>Arsenio Hall: Smart &amp; Classy</td>\n",
       "      <td>2019</td>\n",
       "    </tr>\n",
       "    <tr>\n",
       "      <th>2</th>\n",
       "      <td>Kazoops!</td>\n",
       "      <td>2017</td>\n",
       "    </tr>\n",
       "    <tr>\n",
       "      <th>3</th>\n",
       "      <td>We Are the Champions</td>\n",
       "      <td>2020</td>\n",
       "    </tr>\n",
       "    <tr>\n",
       "      <th>4</th>\n",
       "      <td>Pablo Escobar, el patrón del mal</td>\n",
       "      <td>2012</td>\n",
       "    </tr>\n",
       "  </tbody>\n",
       "</table>\n",
       "</div>"
      ],
      "text/plain": [
       "                              title  release_year\n",
       "0                   Game Over, Man!          2018\n",
       "1      Arsenio Hall: Smart & Classy          2019\n",
       "2                          Kazoops!          2017\n",
       "3              We Are the Champions          2020\n",
       "4  Pablo Escobar, el patrón del mal          2012"
      ]
     },
     "execution_count": 61,
     "metadata": {},
     "output_type": "execute_result"
    }
   ],
   "source": [
    "netflix_df[[\"title\",\"release_year\"]].head()"
   ]
  },
  {
   "cell_type": "markdown",
   "id": "922d6ad5",
   "metadata": {},
   "source": [
    "# Q5 Using iloc show rows 10 to 20 inclusive"
   ]
  },
  {
   "cell_type": "code",
   "execution_count": 62,
   "id": "8dcdc690",
   "metadata": {},
   "outputs": [
    {
     "data": {
      "application/vnd.microsoft.datawrangler.viewer.v0+json": {
       "columns": [
        {
         "name": "index",
         "rawType": "int64",
         "type": "integer"
        },
        {
         "name": "title",
         "rawType": "object",
         "type": "string"
        },
        {
         "name": "director",
         "rawType": "object",
         "type": "unknown"
        },
        {
         "name": "cast",
         "rawType": "object",
         "type": "unknown"
        },
        {
         "name": "country",
         "rawType": "object",
         "type": "string"
        },
        {
         "name": "date_added",
         "rawType": "object",
         "type": "string"
        },
        {
         "name": "release_year",
         "rawType": "int64",
         "type": "integer"
        },
        {
         "name": "duration",
         "rawType": "object",
         "type": "string"
        }
       ],
       "ref": "312c5f9a-95e4-4da0-975a-84ab595d61bd",
       "rows": [
        [
         "10",
         "Drugs, Inc.",
         null,
         "Mike Secher",
         "United States",
         "March 23, 2019",
         "2015",
         "1 Season"
        ],
        [
         "11",
         "Den of Thieves",
         "Christian Gudegast",
         "Gerard Butler, Pablo Schreiber, O'Shea Jackson Jr., 50 Cent, Meadow Williams, Maurice Compte, Brian Van Holt, Evan Jones, Mo McRae, Kaiwi Lyman",
         "United States",
         "May 1, 2020",
         "2018",
         "140 min"
        ],
        [
         "12",
         "The President's Barber",
         "Chan-sang Lim",
         "Kang-ho Song, So-ri Moon, Jae-eung Lee, Yeong-jin Jo, Byung-ho Son, Yong-soo park, Seung-soo Ryu, Ju-sang Yun, Gyu-su Jeong, Dal-su Oh",
         "South Korea",
         "October 1, 2017",
         "2004",
         "116 min"
        ],
        [
         "13",
         "The Dirt",
         "Jeff Tremaine",
         "Douglas Booth, Iwan Rheon, Colson Baker, Daniel Webber, David Costabile, Pete Davidson",
         "United States",
         "March 22, 2019",
         "2019",
         "108 min"
        ],
        [
         "14",
         "Brews Brothers",
         null,
         "Alan Aisenberg, Mike Castle, Carmen Flood, Marques Ray",
         "United States",
         "April 10, 2020",
         "2020",
         "1 Season"
        ],
        [
         "15",
         "Rodney Carrington: Here Comes the Truth",
         "Brandon Jones",
         "Rodney Carrington",
         "United States",
         "October 3, 2017",
         "2017",
         "66 min"
        ],
        [
         "16",
         "Planet Hulk",
         "Sam Liu",
         "Rick D. Wasserman, Lisa Ann Beley, Mark Hildreth, Liam O'Brien, Kevin Michael Richardson, Sam Vincent, Advah Soudack, Michael Kopsa, Paul Dobson, Marc Worden",
         "United States",
         "June 1, 2020",
         "2010",
         "81 min"
        ],
        [
         "17",
         "Tree Man",
         "Jon Reiner, Brad Rothschild",
         null,
         "Canada",
         "November 1, 2016",
         "2015",
         "82 min"
        ],
        [
         "18",
         "Ladies First",
         "Uraaz Bahl",
         null,
         "India",
         "March 8, 2018",
         "2018",
         "40 min"
        ],
        [
         "19",
         "King Jack",
         "Felix Thompson",
         "Charlie Plummer, Cory Nichols, Christian Madsen, Danny Flaherty, Erin Davie, Chloe Levine",
         "United States",
         "July 1, 2016",
         "2015",
         "81 min"
        ],
        [
         "20",
         "I love you, stupid",
         "Laura Mañá",
         "Quim Gutiérrez, Natalia Tena, Alfonso Bassave, Alba Ribas, Patricia Vico, Ernesto Alterio",
         "Spain",
         "May 15, 2020",
         "2019",
         "88 min"
        ]
       ],
       "shape": {
        "columns": 7,
        "rows": 11
       }
      },
      "text/html": [
       "<div>\n",
       "<style scoped>\n",
       "    .dataframe tbody tr th:only-of-type {\n",
       "        vertical-align: middle;\n",
       "    }\n",
       "\n",
       "    .dataframe tbody tr th {\n",
       "        vertical-align: top;\n",
       "    }\n",
       "\n",
       "    .dataframe thead th {\n",
       "        text-align: right;\n",
       "    }\n",
       "</style>\n",
       "<table border=\"1\" class=\"dataframe\">\n",
       "  <thead>\n",
       "    <tr style=\"text-align: right;\">\n",
       "      <th></th>\n",
       "      <th>title</th>\n",
       "      <th>director</th>\n",
       "      <th>cast</th>\n",
       "      <th>country</th>\n",
       "      <th>date_added</th>\n",
       "      <th>release_year</th>\n",
       "      <th>duration</th>\n",
       "    </tr>\n",
       "  </thead>\n",
       "  <tbody>\n",
       "    <tr>\n",
       "      <th>10</th>\n",
       "      <td>Drugs, Inc.</td>\n",
       "      <td>NaN</td>\n",
       "      <td>Mike Secher</td>\n",
       "      <td>United States</td>\n",
       "      <td>March 23, 2019</td>\n",
       "      <td>2015</td>\n",
       "      <td>1 Season</td>\n",
       "    </tr>\n",
       "    <tr>\n",
       "      <th>11</th>\n",
       "      <td>Den of Thieves</td>\n",
       "      <td>Christian Gudegast</td>\n",
       "      <td>Gerard Butler, Pablo Schreiber, O'Shea Jackson...</td>\n",
       "      <td>United States</td>\n",
       "      <td>May 1, 2020</td>\n",
       "      <td>2018</td>\n",
       "      <td>140 min</td>\n",
       "    </tr>\n",
       "    <tr>\n",
       "      <th>12</th>\n",
       "      <td>The President's Barber</td>\n",
       "      <td>Chan-sang Lim</td>\n",
       "      <td>Kang-ho Song, So-ri Moon, Jae-eung Lee, Yeong-...</td>\n",
       "      <td>South Korea</td>\n",
       "      <td>October 1, 2017</td>\n",
       "      <td>2004</td>\n",
       "      <td>116 min</td>\n",
       "    </tr>\n",
       "    <tr>\n",
       "      <th>13</th>\n",
       "      <td>The Dirt</td>\n",
       "      <td>Jeff Tremaine</td>\n",
       "      <td>Douglas Booth, Iwan Rheon, Colson Baker, Danie...</td>\n",
       "      <td>United States</td>\n",
       "      <td>March 22, 2019</td>\n",
       "      <td>2019</td>\n",
       "      <td>108 min</td>\n",
       "    </tr>\n",
       "    <tr>\n",
       "      <th>14</th>\n",
       "      <td>Brews Brothers</td>\n",
       "      <td>NaN</td>\n",
       "      <td>Alan Aisenberg, Mike Castle, Carmen Flood, Mar...</td>\n",
       "      <td>United States</td>\n",
       "      <td>April 10, 2020</td>\n",
       "      <td>2020</td>\n",
       "      <td>1 Season</td>\n",
       "    </tr>\n",
       "    <tr>\n",
       "      <th>15</th>\n",
       "      <td>Rodney Carrington: Here Comes the Truth</td>\n",
       "      <td>Brandon Jones</td>\n",
       "      <td>Rodney Carrington</td>\n",
       "      <td>United States</td>\n",
       "      <td>October 3, 2017</td>\n",
       "      <td>2017</td>\n",
       "      <td>66 min</td>\n",
       "    </tr>\n",
       "    <tr>\n",
       "      <th>16</th>\n",
       "      <td>Planet Hulk</td>\n",
       "      <td>Sam Liu</td>\n",
       "      <td>Rick D. Wasserman, Lisa Ann Beley, Mark Hildre...</td>\n",
       "      <td>United States</td>\n",
       "      <td>June 1, 2020</td>\n",
       "      <td>2010</td>\n",
       "      <td>81 min</td>\n",
       "    </tr>\n",
       "    <tr>\n",
       "      <th>17</th>\n",
       "      <td>Tree Man</td>\n",
       "      <td>Jon Reiner, Brad Rothschild</td>\n",
       "      <td>NaN</td>\n",
       "      <td>Canada</td>\n",
       "      <td>November 1, 2016</td>\n",
       "      <td>2015</td>\n",
       "      <td>82 min</td>\n",
       "    </tr>\n",
       "    <tr>\n",
       "      <th>18</th>\n",
       "      <td>Ladies First</td>\n",
       "      <td>Uraaz Bahl</td>\n",
       "      <td>NaN</td>\n",
       "      <td>India</td>\n",
       "      <td>March 8, 2018</td>\n",
       "      <td>2018</td>\n",
       "      <td>40 min</td>\n",
       "    </tr>\n",
       "    <tr>\n",
       "      <th>19</th>\n",
       "      <td>King Jack</td>\n",
       "      <td>Felix Thompson</td>\n",
       "      <td>Charlie Plummer, Cory Nichols, Christian Madse...</td>\n",
       "      <td>United States</td>\n",
       "      <td>July 1, 2016</td>\n",
       "      <td>2015</td>\n",
       "      <td>81 min</td>\n",
       "    </tr>\n",
       "    <tr>\n",
       "      <th>20</th>\n",
       "      <td>I love you, stupid</td>\n",
       "      <td>Laura Mañá</td>\n",
       "      <td>Quim Gutiérrez, Natalia Tena, Alfonso Bassave,...</td>\n",
       "      <td>Spain</td>\n",
       "      <td>May 15, 2020</td>\n",
       "      <td>2019</td>\n",
       "      <td>88 min</td>\n",
       "    </tr>\n",
       "  </tbody>\n",
       "</table>\n",
       "</div>"
      ],
      "text/plain": [
       "                                      title                     director  \\\n",
       "10                              Drugs, Inc.                          NaN   \n",
       "11                           Den of Thieves           Christian Gudegast   \n",
       "12                   The President's Barber                Chan-sang Lim   \n",
       "13                                 The Dirt                Jeff Tremaine   \n",
       "14                           Brews Brothers                          NaN   \n",
       "15  Rodney Carrington: Here Comes the Truth                Brandon Jones   \n",
       "16                              Planet Hulk                      Sam Liu   \n",
       "17                                 Tree Man  Jon Reiner, Brad Rothschild   \n",
       "18                             Ladies First                   Uraaz Bahl   \n",
       "19                                King Jack               Felix Thompson   \n",
       "20                       I love you, stupid                   Laura Mañá   \n",
       "\n",
       "                                                 cast        country  \\\n",
       "10                                        Mike Secher  United States   \n",
       "11  Gerard Butler, Pablo Schreiber, O'Shea Jackson...  United States   \n",
       "12  Kang-ho Song, So-ri Moon, Jae-eung Lee, Yeong-...    South Korea   \n",
       "13  Douglas Booth, Iwan Rheon, Colson Baker, Danie...  United States   \n",
       "14  Alan Aisenberg, Mike Castle, Carmen Flood, Mar...  United States   \n",
       "15                                  Rodney Carrington  United States   \n",
       "16  Rick D. Wasserman, Lisa Ann Beley, Mark Hildre...  United States   \n",
       "17                                                NaN         Canada   \n",
       "18                                                NaN          India   \n",
       "19  Charlie Plummer, Cory Nichols, Christian Madse...  United States   \n",
       "20  Quim Gutiérrez, Natalia Tena, Alfonso Bassave,...          Spain   \n",
       "\n",
       "          date_added  release_year  duration  \n",
       "10    March 23, 2019          2015  1 Season  \n",
       "11       May 1, 2020          2018   140 min  \n",
       "12   October 1, 2017          2004   116 min  \n",
       "13    March 22, 2019          2019   108 min  \n",
       "14    April 10, 2020          2020  1 Season  \n",
       "15   October 3, 2017          2017    66 min  \n",
       "16      June 1, 2020          2010    81 min  \n",
       "17  November 1, 2016          2015    82 min  \n",
       "18     March 8, 2018          2018    40 min  \n",
       "19      July 1, 2016          2015    81 min  \n",
       "20      May 15, 2020          2019    88 min  "
      ]
     },
     "execution_count": 62,
     "metadata": {},
     "output_type": "execute_result"
    }
   ],
   "source": [
    "netflix_df.iloc[10:21]"
   ]
  },
  {
   "cell_type": "markdown",
   "id": "dadc5376",
   "metadata": {},
   "source": [
    "# Q6 Check for missing values in each column "
   ]
  },
  {
   "cell_type": "code",
   "execution_count": 63,
   "id": "dcb64ae5",
   "metadata": {},
   "outputs": [
    {
     "data": {
      "application/vnd.microsoft.datawrangler.viewer.v0+json": {
       "columns": [
        {
         "name": "index",
         "rawType": "object",
         "type": "string"
        },
        {
         "name": "0",
         "rawType": "int64",
         "type": "integer"
        }
       ],
       "ref": "42de76e9-f30f-46e2-97a5-dc0dbb219fc7",
       "rows": [
        [
         "title",
         "0"
        ],
        [
         "director",
         "164"
        ],
        [
         "cast",
         "41"
        ],
        [
         "country",
         "46"
        ],
        [
         "date_added",
         "0"
        ],
        [
         "release_year",
         "0"
        ],
        [
         "duration",
         "0"
        ]
       ],
       "shape": {
        "columns": 1,
        "rows": 7
       }
      },
      "text/plain": [
       "title             0\n",
       "director        164\n",
       "cast             41\n",
       "country          46\n",
       "date_added        0\n",
       "release_year      0\n",
       "duration          0\n",
       "dtype: int64"
      ]
     },
     "execution_count": 63,
     "metadata": {},
     "output_type": "execute_result"
    }
   ],
   "source": [
    "netflix_df.isnull().sum()"
   ]
  },
  {
   "cell_type": "markdown",
   "id": "6dfe2e42",
   "metadata": {},
   "source": [
    "# Q7 Fill missing values in countries with unknown and directors with not available"
   ]
  },
  {
   "cell_type": "code",
   "execution_count": 64,
   "id": "337a3215",
   "metadata": {},
   "outputs": [
    {
     "name": "stderr",
     "output_type": "stream",
     "text": [
      "C:\\Users\\Shreyas S Hegde\\AppData\\Local\\Temp\\ipykernel_21872\\673403454.py:1: FutureWarning: A value is trying to be set on a copy of a DataFrame or Series through chained assignment using an inplace method.\n",
      "The behavior will change in pandas 3.0. This inplace method will never work because the intermediate object on which we are setting values always behaves as a copy.\n",
      "\n",
      "For example, when doing 'df[col].method(value, inplace=True)', try using 'df.method({col: value}, inplace=True)' or df[col] = df[col].method(value) instead, to perform the operation inplace on the original object.\n",
      "\n",
      "\n",
      "  netflix_df[\"country\"].fillna(\"Unknown\",inplace=True)\n",
      "C:\\Users\\Shreyas S Hegde\\AppData\\Local\\Temp\\ipykernel_21872\\673403454.py:2: FutureWarning: A value is trying to be set on a copy of a DataFrame or Series through chained assignment using an inplace method.\n",
      "The behavior will change in pandas 3.0. This inplace method will never work because the intermediate object on which we are setting values always behaves as a copy.\n",
      "\n",
      "For example, when doing 'df[col].method(value, inplace=True)', try using 'df.method({col: value}, inplace=True)' or df[col] = df[col].method(value) instead, to perform the operation inplace on the original object.\n",
      "\n",
      "\n",
      "  netflix_df[\"director\"].fillna(\"Not Available\",inplace=True)\n"
     ]
    },
    {
     "data": {
      "application/vnd.microsoft.datawrangler.viewer.v0+json": {
       "columns": [
        {
         "name": "index",
         "rawType": "int64",
         "type": "integer"
        },
        {
         "name": "title",
         "rawType": "object",
         "type": "string"
        },
        {
         "name": "director",
         "rawType": "object",
         "type": "string"
        },
        {
         "name": "cast",
         "rawType": "object",
         "type": "unknown"
        },
        {
         "name": "country",
         "rawType": "object",
         "type": "string"
        },
        {
         "name": "date_added",
         "rawType": "object",
         "type": "string"
        },
        {
         "name": "release_year",
         "rawType": "int64",
         "type": "integer"
        },
        {
         "name": "duration",
         "rawType": "object",
         "type": "string"
        }
       ],
       "ref": "aa9c30ea-13f7-420d-8ae5-01591f4ebca4",
       "rows": [
        [
         "0",
         "Game Over, Man!",
         "Kyle Newacheck",
         "Adam DeVine, Anders Holm, Blake Anderson, Utkarsh Ambudkar, Aya Cash, Neal McDonough, Daniel Stern, Jamie Demetriou, Rhona Mitra, Sam Richardson, Steve Howey, Mac Brandt, Geno Segers, Roe Hartrampf",
         "United States",
         "March 23, 2018",
         "2018",
         "102 min"
        ],
        [
         "1",
         "Arsenio Hall: Smart & Classy",
         "Brian Volk-Weiss",
         "Arsenio Hall",
         "United States",
         "October 29, 2019",
         "2019",
         "63 min"
        ],
        [
         "2",
         "Kazoops!",
         "Not Available",
         "Reece Pockney, Scott Langley, Alex Babic, Gemma Harvey, Jessica Hann, Emma Tate",
         "Australia",
         "May 5, 2017",
         "2017",
         "3 Seasons"
        ],
        [
         "3",
         "We Are the Champions",
         "Not Available",
         null,
         "United States",
         "November 17, 2020",
         "2020",
         "1 Season"
        ],
        [
         "4",
         "Pablo Escobar, el patrón del mal",
         "Not Available",
         "Andrés Parra, Angie Cepeda, Cecilia Navia, Vicky Hernández, Christian Tappan, Rodolfo Silva, Tommy Vásquez, Toto Vega, Nicolás Montero, Marcela Gallego",
         "Colombia",
         "February 3, 2021",
         "2012",
         "1 Season"
        ],
        [
         "5",
         "Saint Seiya: The Lost Canvas",
         "Not Available",
         "Tetsuya Kakihara, Hiro Shimono, Aya Hirano, Atsushi Abe, Sanae Kobayashi, Kenta Miyake, Tomohiro Tsuboi, Nana Mizuki, Shigeru Chiba",
         "Japan",
         "May 15, 2018",
         "2009",
         "1 Season"
        ],
        [
         "6",
         "Fauda",
         "Not Available",
         "Lior Raz, Hisham Suliman, Shadi Mar'i, Laëtitia Eïdo, Tsahi Halevi, Yuval Segal, Neta Garty, Tomer Kapon, Itzik Cohen, Rona-Lee Shim'on, Boaz Konforty, Doron Ben-David",
         "Israel",
         "April 16, 2020",
         "2020",
         "3 Seasons"
        ],
        [
         "7",
         "The Cook of Castamar",
         "Not Available",
         "Michelle Jenner, Roberto Enríquez, Hugo Silva, Maxi Iglesias, María Hervás, Agnès Llobet, Paula Usero, Jean Cruz, Óscar Rabadán, Fiorella Faltoyano, Nancho Novo, Silvia Abascal, Mónica López",
         "Unknown",
         "July 9, 2021",
         "2021",
         "1 Season"
        ],
        [
         "8",
         "The App That Stole Christmas",
         "Monica Floyd",
         "Jackie Long, Diane Marie Howard, Jaylin Hall, Miguel A. Núñez Jr., Ray J, JayQ The Legend, J. Anthony Brown, Kenny Rhodes, Amber Cosich",
         "United States",
         "November 20, 2020",
         "2020",
         "64 min"
        ],
        [
         "9",
         "Mute",
         "Duncan Jones",
         "Alexander Skarsgård, Paul Rudd, Justin Theroux",
         "United Kingdom, Germany",
         "February 23, 2018",
         "2018",
         "127 min"
        ],
        [
         "10",
         "Drugs, Inc.",
         "Not Available",
         "Mike Secher",
         "United States",
         "March 23, 2019",
         "2015",
         "1 Season"
        ],
        [
         "11",
         "Den of Thieves",
         "Christian Gudegast",
         "Gerard Butler, Pablo Schreiber, O'Shea Jackson Jr., 50 Cent, Meadow Williams, Maurice Compte, Brian Van Holt, Evan Jones, Mo McRae, Kaiwi Lyman",
         "United States",
         "May 1, 2020",
         "2018",
         "140 min"
        ],
        [
         "12",
         "The President's Barber",
         "Chan-sang Lim",
         "Kang-ho Song, So-ri Moon, Jae-eung Lee, Yeong-jin Jo, Byung-ho Son, Yong-soo park, Seung-soo Ryu, Ju-sang Yun, Gyu-su Jeong, Dal-su Oh",
         "South Korea",
         "October 1, 2017",
         "2004",
         "116 min"
        ],
        [
         "13",
         "The Dirt",
         "Jeff Tremaine",
         "Douglas Booth, Iwan Rheon, Colson Baker, Daniel Webber, David Costabile, Pete Davidson",
         "United States",
         "March 22, 2019",
         "2019",
         "108 min"
        ],
        [
         "14",
         "Brews Brothers",
         "Not Available",
         "Alan Aisenberg, Mike Castle, Carmen Flood, Marques Ray",
         "United States",
         "April 10, 2020",
         "2020",
         "1 Season"
        ],
        [
         "15",
         "Rodney Carrington: Here Comes the Truth",
         "Brandon Jones",
         "Rodney Carrington",
         "United States",
         "October 3, 2017",
         "2017",
         "66 min"
        ],
        [
         "16",
         "Planet Hulk",
         "Sam Liu",
         "Rick D. Wasserman, Lisa Ann Beley, Mark Hildreth, Liam O'Brien, Kevin Michael Richardson, Sam Vincent, Advah Soudack, Michael Kopsa, Paul Dobson, Marc Worden",
         "United States",
         "June 1, 2020",
         "2010",
         "81 min"
        ],
        [
         "17",
         "Tree Man",
         "Jon Reiner, Brad Rothschild",
         null,
         "Canada",
         "November 1, 2016",
         "2015",
         "82 min"
        ],
        [
         "18",
         "Ladies First",
         "Uraaz Bahl",
         null,
         "India",
         "March 8, 2018",
         "2018",
         "40 min"
        ],
        [
         "19",
         "King Jack",
         "Felix Thompson",
         "Charlie Plummer, Cory Nichols, Christian Madsen, Danny Flaherty, Erin Davie, Chloe Levine",
         "United States",
         "July 1, 2016",
         "2015",
         "81 min"
        ],
        [
         "20",
         "I love you, stupid",
         "Laura Mañá",
         "Quim Gutiérrez, Natalia Tena, Alfonso Bassave, Alba Ribas, Patricia Vico, Ernesto Alterio",
         "Spain",
         "May 15, 2020",
         "2019",
         "88 min"
        ],
        [
         "21",
         "A Family Man",
         "Mark Williams",
         "Gerard Butler, Gretchen Mol, Alison Brie, Willem Dafoe, Alfred Molina, Maxwell Jenkins, Anupam Kher, Dustin Milligan",
         "Canada, United States",
         "December 15, 2019",
         "2016",
         "110 min"
        ],
        [
         "22",
         "Boomika (Telugu)",
         "Rathindran R Prasad",
         "Aishwarya Rajesh, Vidhu, Surya Ganapathy, Madhuri, Pavel Navageethan, Avantika Vandanapu",
         "Unknown",
         "August 23, 2021",
         "2021",
         "122 min"
        ],
        [
         "23",
         "3 Türken & ein Baby",
         "Sinan Akkuş",
         "Kostja Ullmann, Eko Fresh, Kida Khodr Ramadan, Sabrina Klüber, Sami Nasser, Kayla Rybicka, Jytte-Merle Böhrnsen, Emrah Erdogru, Tim Grothe, Hülya Duyar",
         "Germany",
         "December 15, 2016",
         "2015",
         "93 min"
        ],
        [
         "24",
         "Teenage Bounty Hunters",
         "Not Available",
         "Anjelica Bette Fellini, Maddie Phillips, Kadeem Hardison, Virginia Williams, Mackenzie Astin, Shirley Rumierk, Myles Evans, Devon Hales, Spencer House, Eric Graise, Charity Cervantes, Wynn Everett, Method Man",
         "United States",
         "August 14, 2020",
         "2020",
         "1 Season"
        ],
        [
         "25",
         "I'm Sorry",
         "Not Available",
         "Andrea Savage, Tom Everett Scott, Olive Petrucci",
         "United States",
         "September 13, 2019",
         "2019",
         "2 Seasons"
        ],
        [
         "26",
         "Taken",
         "Not Available",
         "Clive Standen, Jennifer Beals, Gaius Charles, Brooklyn Sudano, Monique Gabriela Curnen, Michael Irby, James Landry Hébert, Jose Pablo Cantillo, James Landry Hebert",
         "France, United States",
         " January 12, 2019",
         "2018",
         "2 Seasons"
        ],
        [
         "27",
         "Harriet the Spy: Blog Wars",
         "Ron Oliver",
         "Jennifer Stone, Kristin Booth, Wesley Morgan, Doug Murray, Shauna MacDonald, Jason Blicker, Jayne Eastwood, Melinda Shankar, Alexander Conti, Vanessa Morgan",
         "United States, Canada",
         "April 15, 2018",
         "2010",
         "87 min"
        ],
        [
         "28",
         "Jal",
         "Girish Malik",
         "Purab Kohli, Tannishtha Chatterjee, Kirti Kulhari, Yashpal Sharma, Mukul Dev, Saidah Jules, Ravi Gossain, Rahul Singh",
         "India",
         "October 15, 2017",
         "2013",
         "132 min"
        ],
        [
         "29",
         "Only Mine",
         "Michael Civille",
         "Amber Midthunder, Brett Zimmerman, Chris Browning, Walter Fauntleroy, Claudia Ferri, Lorenzo James Henrie, Ellen Wroe, Ashley Holliday Tavares, Nancy Linehan Charles, Jonna Walsh",
         "United States",
         "April 15, 2021",
         "2019",
         "88 min"
        ],
        [
         "30",
         "Bibi & Tina: Tohuwabohu Total",
         "Detlev Buck",
         "Lina Larissa Strahl, Lisa-Marie Koroll, Louis Held, Lea van Acken, Emilio Sakraya, Michael Maertens, Martin Seifert",
         "Germany",
         "December 27, 2017",
         "2017",
         "106 min"
        ],
        [
         "31",
         "Darna Mana Hai",
         "Prawal Raman",
         "Aftab Shivdasani, Antara Mali, Boman Irani, Isha Koppikar, Nana Patekar, Raghuvir Yadav, Rajpal Yadav, Revathy, Saif Ali Khan, Sameera Reddy, Sanjay Kapoor, Shilpa Shetty, Sohail Khan, Vivek Oberoi",
         "India",
         "August 1, 2019",
         "2003",
         "116 min"
        ],
        [
         "32",
         "Professor",
         "Lekh Tandon",
         "Shammi Kapoor, Kalpana, Lalita Pawar, Parveen Choudhary, Salim, Pratima Devi, Rashid Khan, Bir Sakuja, Bela Bose, Ratnamala",
         "India",
         "July 1, 2017",
         "1962",
         "163 min"
        ],
        [
         "33",
         "Posesif",
         "Edwin",
         "Putri Marino, Adipati Dolken, Gritte Agatha, Chicco Kurniawan, Yayu Unru, Cut Mini Theo, Ismail Basbeth, Maulidina K. Putri",
         "Indonesia",
         "January 1, 2020",
         "2017",
         "102 min"
        ],
        [
         "34",
         "The lynx",
         "Stanisław Różewicz",
         "Jerzy Radziwiłowicz, Franciszek Pieczka, Piotr Bajor, Ryszarda Hanin, Janusz Paluszkiewicz, Henryk Machalica, Hanna Mikuć, Maria Klejdysz",
         "Poland",
         "October 1, 2019",
         "1982",
         "82 min"
        ],
        [
         "35",
         "Nightflyers",
         "Not Available",
         "Eoin Macken, David Ajala, Jodie Turner-Smith, Angus Sampson, Sam Strike, Maya Eshet, Brían F. O'Byrne, Gretchen Mol, Miranda Raison",
         "United States",
         "December 2, 2019",
         "2018",
         "1 Season"
        ],
        [
         "36",
         "Eyyvah Eyyvah 3",
         "Hakan Algül",
         "Demet Akbağ, Ata Demirer, Özge Borak, Salih Kalyon, Tanju Tuncel, Serra Yılmaz, Tarık Ünlüoğlu, Ayşenil Şamlıoğlu",
         "Turkey",
         "March 10, 2017",
         "2014",
         "103 min"
        ],
        [
         "37",
         "Everybody Knows",
         "Asghar Farhadi",
         "Penélope Cruz, Javier Bardem, Ricardo Darín, Eduard Fernández, Bárbara Lennie, Inma Cuesta, Elvira Mínguez, Ramón Barea, Carla Campra, Sara Sálamo, Roger Casamajor, José Ángel Egido",
         "Spain, France, Italy",
         "June 6, 2019",
         "2019",
         "133 min"
        ],
        [
         "38",
         "Case",
         "Not Available",
         "Steinunn Ólína Þorsteinsdóttir, Magnús Jónsson, Þorsteinn Bachmann, Jóhanna Vigdís Arnardóttir, Birna Rún Eiríksdóttir, Elma Stefania Agustsdottir, Bergur Þór Ingólfsson, Halldóra Geirharðsdóttir, Arnar Jónsson, Davíð Freyr Þórunnarson, Björn Stefánsson, Nína Dögg Filippusdóttir, Hjortur Jóhann Jónsson",
         "Iceland",
         "November 9, 2016",
         "2015",
         "1 Season"
        ],
        [
         "39",
         "The Circle",
         "Not Available",
         "Michelle Buteau",
         "United States, United Kingdom",
         "September 8, 2021",
         "2021",
         "3 Seasons"
        ],
        [
         "40",
         "Vikings Unearthed",
         "Harvey Lilley",
         "Eric Meyers",
         "United States",
         "March 1, 2017",
         "2016",
         "113 min"
        ],
        [
         "41",
         "Bad Blood",
         "Not Available",
         "Anthony LaPaglia, Kim Coates, Enrico Colantoni, Paul Sorvino, Maxim Roy, Brett Donahue, Michelle Mylett, Claudia Ferri, Tony Nappo",
         "Canada",
         "May 31, 2019",
         "2019",
         "2 Seasons"
        ],
        [
         "42",
         "My Entire High School Sinking Into the Sea",
         "Dash Shaw",
         "Jason Schwartzman, Lena Dunham, Reggie Watts, Maya Rudolph, Susan Sarandon, Thomas Jay Ryan, Alex Karpovsky, Louisa Krause, John Cameron Mitchell, Matthew Maher",
         "United States",
         "January 23, 2018",
         "2016",
         "77 min"
        ],
        [
         "43",
         "Bob Ross: Happy Accidents, Betrayal & Greed",
         "Joshua Rofé",
         "Bob Ross",
         "Unknown",
         "August 25, 2021",
         "2021",
         "93 min"
        ],
        [
         "44",
         "This Lady Called Life",
         "Kayode Kasum",
         "Bisola Aiyeola, Efa Iwara, Molawa Onajobi, Tina Mba, Wale Ojo, Jemima Osunde, Lota Chukwu, Samuel Asa'ah, Michael Ejoor, Uche Elumelu",
         "Nigeria",
         "April 23, 2021",
         "2020",
         "120 min"
        ],
        [
         "45",
         "Don't F**k with Cats: Hunting an Internet Killer",
         "Mark Lewis",
         null,
         "United Kingdom, United States",
         "December 18, 2019",
         "2019",
         "1 Season"
        ],
        [
         "46",
         "Memoir of a Murderer",
         "Shin-yeon Won",
         "Kyung-gu Seol, Nam-gil Kim, Seol-hyun Kim, Dal-su Oh, Seok-jeong Hwang, In-Gum Jung, Ki-jun Shin, Jin-young Jang, Rina Shin, Hye-yoon Kim",
         "South Korea",
         "February 19, 2018",
         "2017",
         "118 min"
        ],
        [
         "47",
         "Barbie & Her Sisters in a Pony Tale",
         "Kyran Kelly",
         "Kelly Sheridan, Kazumi Evans, Claire Corlett, Ashlyn Drummond, Alex Kelly, Tabitha St. Germain, Shannon Chan-Kent",
         "United States",
         "October 1, 2017",
         "2013",
         "74 min"
        ],
        [
         "48",
         "Your Excellency",
         "Funke Akindele",
         "Akin Lewis, Funke Akindele, Kemi Lala Akindoju, Shaffy Bello, Kunle Coker, Eku Edewor, Alexx Ekubo, Osas Ighodaro Ajibade, Seyi Law, Falz, Chigul, Deyemi Okanlawon, Beverly Osu, Toni Tones, Christian Paul, Bimbo Manuel, Helen Paul",
         "Unknown",
         "July 10, 2020",
         "2019",
         "120 min"
        ],
        [
         "49",
         "Ferrari Ki Sawaari",
         "Rajesh Mapuskar",
         "Sharman Joshi, Boman Irani, Ritwik Sahore, Paresh Rawal, Deepak Shirke, Satyadeep Misra, Aakash Dabhade, Nilesh Diwekar, Vidya Balan",
         "India",
         "April 1, 2021",
         "2012",
         "133 min"
        ]
       ],
       "shape": {
        "columns": 7,
        "rows": 500
       }
      },
      "text/html": [
       "<div>\n",
       "<style scoped>\n",
       "    .dataframe tbody tr th:only-of-type {\n",
       "        vertical-align: middle;\n",
       "    }\n",
       "\n",
       "    .dataframe tbody tr th {\n",
       "        vertical-align: top;\n",
       "    }\n",
       "\n",
       "    .dataframe thead th {\n",
       "        text-align: right;\n",
       "    }\n",
       "</style>\n",
       "<table border=\"1\" class=\"dataframe\">\n",
       "  <thead>\n",
       "    <tr style=\"text-align: right;\">\n",
       "      <th></th>\n",
       "      <th>title</th>\n",
       "      <th>director</th>\n",
       "      <th>cast</th>\n",
       "      <th>country</th>\n",
       "      <th>date_added</th>\n",
       "      <th>release_year</th>\n",
       "      <th>duration</th>\n",
       "    </tr>\n",
       "  </thead>\n",
       "  <tbody>\n",
       "    <tr>\n",
       "      <th>0</th>\n",
       "      <td>Game Over, Man!</td>\n",
       "      <td>Kyle Newacheck</td>\n",
       "      <td>Adam DeVine, Anders Holm, Blake Anderson, Utka...</td>\n",
       "      <td>United States</td>\n",
       "      <td>March 23, 2018</td>\n",
       "      <td>2018</td>\n",
       "      <td>102 min</td>\n",
       "    </tr>\n",
       "    <tr>\n",
       "      <th>1</th>\n",
       "      <td>Arsenio Hall: Smart &amp; Classy</td>\n",
       "      <td>Brian Volk-Weiss</td>\n",
       "      <td>Arsenio Hall</td>\n",
       "      <td>United States</td>\n",
       "      <td>October 29, 2019</td>\n",
       "      <td>2019</td>\n",
       "      <td>63 min</td>\n",
       "    </tr>\n",
       "    <tr>\n",
       "      <th>2</th>\n",
       "      <td>Kazoops!</td>\n",
       "      <td>Not Available</td>\n",
       "      <td>Reece Pockney, Scott Langley, Alex Babic, Gemm...</td>\n",
       "      <td>Australia</td>\n",
       "      <td>May 5, 2017</td>\n",
       "      <td>2017</td>\n",
       "      <td>3 Seasons</td>\n",
       "    </tr>\n",
       "    <tr>\n",
       "      <th>3</th>\n",
       "      <td>We Are the Champions</td>\n",
       "      <td>Not Available</td>\n",
       "      <td>NaN</td>\n",
       "      <td>United States</td>\n",
       "      <td>November 17, 2020</td>\n",
       "      <td>2020</td>\n",
       "      <td>1 Season</td>\n",
       "    </tr>\n",
       "    <tr>\n",
       "      <th>4</th>\n",
       "      <td>Pablo Escobar, el patrón del mal</td>\n",
       "      <td>Not Available</td>\n",
       "      <td>Andrés Parra, Angie Cepeda, Cecilia Navia, Vic...</td>\n",
       "      <td>Colombia</td>\n",
       "      <td>February 3, 2021</td>\n",
       "      <td>2012</td>\n",
       "      <td>1 Season</td>\n",
       "    </tr>\n",
       "    <tr>\n",
       "      <th>...</th>\n",
       "      <td>...</td>\n",
       "      <td>...</td>\n",
       "      <td>...</td>\n",
       "      <td>...</td>\n",
       "      <td>...</td>\n",
       "      <td>...</td>\n",
       "      <td>...</td>\n",
       "    </tr>\n",
       "    <tr>\n",
       "      <th>495</th>\n",
       "      <td>Sebastián Marcelo Wainraich</td>\n",
       "      <td>Raúl Campos, Jan Suter</td>\n",
       "      <td>Sebastián Marcelo Wainraich</td>\n",
       "      <td>Argentina</td>\n",
       "      <td>January 26, 2018</td>\n",
       "      <td>2018</td>\n",
       "      <td>49 min</td>\n",
       "    </tr>\n",
       "    <tr>\n",
       "      <th>496</th>\n",
       "      <td>The Mistress</td>\n",
       "      <td>Olivia M. Lamasan</td>\n",
       "      <td>John Lloyd Cruz, Bea Alonzo, Hilda Koronel, Ro...</td>\n",
       "      <td>Philippines</td>\n",
       "      <td>February 27, 2019</td>\n",
       "      <td>2012</td>\n",
       "      <td>132 min</td>\n",
       "    </tr>\n",
       "    <tr>\n",
       "      <th>497</th>\n",
       "      <td>Korean Cold Noodle Rhapsody</td>\n",
       "      <td>Not Available</td>\n",
       "      <td>Paik Jong-won</td>\n",
       "      <td>Unknown</td>\n",
       "      <td>August 20, 2021</td>\n",
       "      <td>2021</td>\n",
       "      <td>1 Season</td>\n",
       "    </tr>\n",
       "    <tr>\n",
       "      <th>498</th>\n",
       "      <td>Look for a Star</td>\n",
       "      <td>Andrew Lau Wai-Keung</td>\n",
       "      <td>Andy Lau, Qi Shu, Zhang Hanyu, Denise Ho, Domi...</td>\n",
       "      <td>Hong Kong</td>\n",
       "      <td>December 1, 2018</td>\n",
       "      <td>2009</td>\n",
       "      <td>117 min</td>\n",
       "    </tr>\n",
       "    <tr>\n",
       "      <th>499</th>\n",
       "      <td>40 Sticks</td>\n",
       "      <td>Victor Gatonye</td>\n",
       "      <td>Robert Agengo, Mwaura Bilal, Andreo Kamau, Caj...</td>\n",
       "      <td>Kenya</td>\n",
       "      <td>November 20, 2020</td>\n",
       "      <td>2019</td>\n",
       "      <td>93 min</td>\n",
       "    </tr>\n",
       "  </tbody>\n",
       "</table>\n",
       "<p>500 rows × 7 columns</p>\n",
       "</div>"
      ],
      "text/plain": [
       "                                title                director  \\\n",
       "0                     Game Over, Man!          Kyle Newacheck   \n",
       "1        Arsenio Hall: Smart & Classy        Brian Volk-Weiss   \n",
       "2                            Kazoops!           Not Available   \n",
       "3                We Are the Champions           Not Available   \n",
       "4    Pablo Escobar, el patrón del mal           Not Available   \n",
       "..                                ...                     ...   \n",
       "495       Sebastián Marcelo Wainraich  Raúl Campos, Jan Suter   \n",
       "496                      The Mistress       Olivia M. Lamasan   \n",
       "497       Korean Cold Noodle Rhapsody           Not Available   \n",
       "498                   Look for a Star    Andrew Lau Wai-Keung   \n",
       "499                         40 Sticks          Victor Gatonye   \n",
       "\n",
       "                                                  cast        country  \\\n",
       "0    Adam DeVine, Anders Holm, Blake Anderson, Utka...  United States   \n",
       "1                                         Arsenio Hall  United States   \n",
       "2    Reece Pockney, Scott Langley, Alex Babic, Gemm...      Australia   \n",
       "3                                                  NaN  United States   \n",
       "4    Andrés Parra, Angie Cepeda, Cecilia Navia, Vic...       Colombia   \n",
       "..                                                 ...            ...   \n",
       "495                        Sebastián Marcelo Wainraich      Argentina   \n",
       "496  John Lloyd Cruz, Bea Alonzo, Hilda Koronel, Ro...    Philippines   \n",
       "497                                      Paik Jong-won        Unknown   \n",
       "498  Andy Lau, Qi Shu, Zhang Hanyu, Denise Ho, Domi...      Hong Kong   \n",
       "499  Robert Agengo, Mwaura Bilal, Andreo Kamau, Caj...          Kenya   \n",
       "\n",
       "            date_added  release_year   duration  \n",
       "0       March 23, 2018          2018    102 min  \n",
       "1     October 29, 2019          2019     63 min  \n",
       "2          May 5, 2017          2017  3 Seasons  \n",
       "3    November 17, 2020          2020   1 Season  \n",
       "4     February 3, 2021          2012   1 Season  \n",
       "..                 ...           ...        ...  \n",
       "495   January 26, 2018          2018     49 min  \n",
       "496  February 27, 2019          2012    132 min  \n",
       "497    August 20, 2021          2021   1 Season  \n",
       "498   December 1, 2018          2009    117 min  \n",
       "499  November 20, 2020          2019     93 min  \n",
       "\n",
       "[500 rows x 7 columns]"
      ]
     },
     "execution_count": 64,
     "metadata": {},
     "output_type": "execute_result"
    }
   ],
   "source": [
    "netflix_df[\"country\"].fillna(\"Unknown\",inplace=True)\n",
    "netflix_df[\"director\"].fillna(\"Not Available\",inplace=True)\n",
    "netflix_df"
   ]
  },
  {
   "cell_type": "markdown",
   "id": "63107b4e",
   "metadata": {},
   "source": [
    "# Q8 Replace United states with USA"
   ]
  },
  {
   "cell_type": "code",
   "execution_count": 65,
   "id": "aaa656f1",
   "metadata": {},
   "outputs": [
    {
     "data": {
      "application/vnd.microsoft.datawrangler.viewer.v0+json": {
       "columns": [
        {
         "name": "index",
         "rawType": "int64",
         "type": "integer"
        },
        {
         "name": "country",
         "rawType": "object",
         "type": "string"
        }
       ],
       "ref": "9c1638e3-6fa0-4c20-9244-4b07fadba305",
       "rows": [
        [
         "0",
         "USA"
        ],
        [
         "1",
         "USA"
        ],
        [
         "2",
         "Australia"
        ],
        [
         "3",
         "USA"
        ],
        [
         "4",
         "Colombia"
        ],
        [
         "5",
         "Japan"
        ],
        [
         "6",
         "Israel"
        ],
        [
         "7",
         "Unknown"
        ],
        [
         "8",
         "USA"
        ],
        [
         "9",
         "United Kingdom, Germany"
        ],
        [
         "10",
         "USA"
        ],
        [
         "11",
         "USA"
        ],
        [
         "12",
         "South Korea"
        ],
        [
         "13",
         "USA"
        ],
        [
         "14",
         "USA"
        ],
        [
         "15",
         "USA"
        ],
        [
         "16",
         "USA"
        ],
        [
         "17",
         "Canada"
        ],
        [
         "18",
         "India"
        ],
        [
         "19",
         "USA"
        ],
        [
         "20",
         "Spain"
        ],
        [
         "21",
         "Canada, United States"
        ],
        [
         "22",
         "Unknown"
        ],
        [
         "23",
         "Germany"
        ],
        [
         "24",
         "USA"
        ],
        [
         "25",
         "USA"
        ],
        [
         "26",
         "France, United States"
        ],
        [
         "27",
         "United States, Canada"
        ],
        [
         "28",
         "India"
        ],
        [
         "29",
         "USA"
        ],
        [
         "30",
         "Germany"
        ],
        [
         "31",
         "India"
        ],
        [
         "32",
         "India"
        ],
        [
         "33",
         "Indonesia"
        ],
        [
         "34",
         "Poland"
        ],
        [
         "35",
         "USA"
        ],
        [
         "36",
         "Turkey"
        ],
        [
         "37",
         "Spain, France, Italy"
        ],
        [
         "38",
         "Iceland"
        ],
        [
         "39",
         "United States, United Kingdom"
        ],
        [
         "40",
         "USA"
        ],
        [
         "41",
         "Canada"
        ],
        [
         "42",
         "USA"
        ],
        [
         "43",
         "Unknown"
        ],
        [
         "44",
         "Nigeria"
        ],
        [
         "45",
         "United Kingdom, United States"
        ],
        [
         "46",
         "South Korea"
        ],
        [
         "47",
         "USA"
        ],
        [
         "48",
         "Unknown"
        ],
        [
         "49",
         "India"
        ]
       ],
       "shape": {
        "columns": 1,
        "rows": 500
       }
      },
      "text/plain": [
       "0              USA\n",
       "1              USA\n",
       "2        Australia\n",
       "3              USA\n",
       "4         Colombia\n",
       "          ...     \n",
       "495      Argentina\n",
       "496    Philippines\n",
       "497        Unknown\n",
       "498      Hong Kong\n",
       "499          Kenya\n",
       "Name: country, Length: 500, dtype: object"
      ]
     },
     "execution_count": 65,
     "metadata": {},
     "output_type": "execute_result"
    }
   ],
   "source": [
    "netflix_df[\"country\"].replace(\"United States\",\"USA\")"
   ]
  },
  {
   "cell_type": "markdown",
   "id": "e0356e6c",
   "metadata": {},
   "source": [
    "# Q9 Create a new column content_type that contains \"Movie\" if duration contains \"min\" and \"TV Show\" if it contains \"Season\"."
   ]
  },
  {
   "cell_type": "code",
   "execution_count": 66,
   "id": "9915fe30",
   "metadata": {},
   "outputs": [
    {
     "data": {
      "application/vnd.microsoft.datawrangler.viewer.v0+json": {
       "columns": [
        {
         "name": "index",
         "rawType": "int64",
         "type": "integer"
        },
        {
         "name": "title",
         "rawType": "object",
         "type": "string"
        },
        {
         "name": "director",
         "rawType": "object",
         "type": "string"
        },
        {
         "name": "cast",
         "rawType": "object",
         "type": "unknown"
        },
        {
         "name": "country",
         "rawType": "object",
         "type": "string"
        },
        {
         "name": "date_added",
         "rawType": "object",
         "type": "string"
        },
        {
         "name": "release_year",
         "rawType": "int64",
         "type": "integer"
        },
        {
         "name": "duration",
         "rawType": "object",
         "type": "string"
        },
        {
         "name": "content_type",
         "rawType": "object",
         "type": "string"
        }
       ],
       "ref": "00bbc2cb-cd27-47ae-94ae-57b74371fcdb",
       "rows": [
        [
         "0",
         "Game Over, Man!",
         "Kyle Newacheck",
         "Adam DeVine, Anders Holm, Blake Anderson, Utkarsh Ambudkar, Aya Cash, Neal McDonough, Daniel Stern, Jamie Demetriou, Rhona Mitra, Sam Richardson, Steve Howey, Mac Brandt, Geno Segers, Roe Hartrampf",
         "United States",
         "March 23, 2018",
         "2018",
         "102 min",
         "Movie"
        ],
        [
         "1",
         "Arsenio Hall: Smart & Classy",
         "Brian Volk-Weiss",
         "Arsenio Hall",
         "United States",
         "October 29, 2019",
         "2019",
         "63 min",
         "Movie"
        ],
        [
         "2",
         "Kazoops!",
         "Not Available",
         "Reece Pockney, Scott Langley, Alex Babic, Gemma Harvey, Jessica Hann, Emma Tate",
         "Australia",
         "May 5, 2017",
         "2017",
         "3 Seasons",
         "TV Show"
        ],
        [
         "3",
         "We Are the Champions",
         "Not Available",
         null,
         "United States",
         "November 17, 2020",
         "2020",
         "1 Season",
         "TV Show"
        ],
        [
         "4",
         "Pablo Escobar, el patrón del mal",
         "Not Available",
         "Andrés Parra, Angie Cepeda, Cecilia Navia, Vicky Hernández, Christian Tappan, Rodolfo Silva, Tommy Vásquez, Toto Vega, Nicolás Montero, Marcela Gallego",
         "Colombia",
         "February 3, 2021",
         "2012",
         "1 Season",
         "TV Show"
        ],
        [
         "5",
         "Saint Seiya: The Lost Canvas",
         "Not Available",
         "Tetsuya Kakihara, Hiro Shimono, Aya Hirano, Atsushi Abe, Sanae Kobayashi, Kenta Miyake, Tomohiro Tsuboi, Nana Mizuki, Shigeru Chiba",
         "Japan",
         "May 15, 2018",
         "2009",
         "1 Season",
         "TV Show"
        ],
        [
         "6",
         "Fauda",
         "Not Available",
         "Lior Raz, Hisham Suliman, Shadi Mar'i, Laëtitia Eïdo, Tsahi Halevi, Yuval Segal, Neta Garty, Tomer Kapon, Itzik Cohen, Rona-Lee Shim'on, Boaz Konforty, Doron Ben-David",
         "Israel",
         "April 16, 2020",
         "2020",
         "3 Seasons",
         "TV Show"
        ],
        [
         "7",
         "The Cook of Castamar",
         "Not Available",
         "Michelle Jenner, Roberto Enríquez, Hugo Silva, Maxi Iglesias, María Hervás, Agnès Llobet, Paula Usero, Jean Cruz, Óscar Rabadán, Fiorella Faltoyano, Nancho Novo, Silvia Abascal, Mónica López",
         "Unknown",
         "July 9, 2021",
         "2021",
         "1 Season",
         "TV Show"
        ],
        [
         "8",
         "The App That Stole Christmas",
         "Monica Floyd",
         "Jackie Long, Diane Marie Howard, Jaylin Hall, Miguel A. Núñez Jr., Ray J, JayQ The Legend, J. Anthony Brown, Kenny Rhodes, Amber Cosich",
         "United States",
         "November 20, 2020",
         "2020",
         "64 min",
         "Movie"
        ],
        [
         "9",
         "Mute",
         "Duncan Jones",
         "Alexander Skarsgård, Paul Rudd, Justin Theroux",
         "United Kingdom, Germany",
         "February 23, 2018",
         "2018",
         "127 min",
         "Movie"
        ],
        [
         "10",
         "Drugs, Inc.",
         "Not Available",
         "Mike Secher",
         "United States",
         "March 23, 2019",
         "2015",
         "1 Season",
         "TV Show"
        ],
        [
         "11",
         "Den of Thieves",
         "Christian Gudegast",
         "Gerard Butler, Pablo Schreiber, O'Shea Jackson Jr., 50 Cent, Meadow Williams, Maurice Compte, Brian Van Holt, Evan Jones, Mo McRae, Kaiwi Lyman",
         "United States",
         "May 1, 2020",
         "2018",
         "140 min",
         "Movie"
        ],
        [
         "12",
         "The President's Barber",
         "Chan-sang Lim",
         "Kang-ho Song, So-ri Moon, Jae-eung Lee, Yeong-jin Jo, Byung-ho Son, Yong-soo park, Seung-soo Ryu, Ju-sang Yun, Gyu-su Jeong, Dal-su Oh",
         "South Korea",
         "October 1, 2017",
         "2004",
         "116 min",
         "Movie"
        ],
        [
         "13",
         "The Dirt",
         "Jeff Tremaine",
         "Douglas Booth, Iwan Rheon, Colson Baker, Daniel Webber, David Costabile, Pete Davidson",
         "United States",
         "March 22, 2019",
         "2019",
         "108 min",
         "Movie"
        ],
        [
         "14",
         "Brews Brothers",
         "Not Available",
         "Alan Aisenberg, Mike Castle, Carmen Flood, Marques Ray",
         "United States",
         "April 10, 2020",
         "2020",
         "1 Season",
         "TV Show"
        ],
        [
         "15",
         "Rodney Carrington: Here Comes the Truth",
         "Brandon Jones",
         "Rodney Carrington",
         "United States",
         "October 3, 2017",
         "2017",
         "66 min",
         "Movie"
        ],
        [
         "16",
         "Planet Hulk",
         "Sam Liu",
         "Rick D. Wasserman, Lisa Ann Beley, Mark Hildreth, Liam O'Brien, Kevin Michael Richardson, Sam Vincent, Advah Soudack, Michael Kopsa, Paul Dobson, Marc Worden",
         "United States",
         "June 1, 2020",
         "2010",
         "81 min",
         "Movie"
        ],
        [
         "17",
         "Tree Man",
         "Jon Reiner, Brad Rothschild",
         null,
         "Canada",
         "November 1, 2016",
         "2015",
         "82 min",
         "Movie"
        ],
        [
         "18",
         "Ladies First",
         "Uraaz Bahl",
         null,
         "India",
         "March 8, 2018",
         "2018",
         "40 min",
         "Movie"
        ],
        [
         "19",
         "King Jack",
         "Felix Thompson",
         "Charlie Plummer, Cory Nichols, Christian Madsen, Danny Flaherty, Erin Davie, Chloe Levine",
         "United States",
         "July 1, 2016",
         "2015",
         "81 min",
         "Movie"
        ],
        [
         "20",
         "I love you, stupid",
         "Laura Mañá",
         "Quim Gutiérrez, Natalia Tena, Alfonso Bassave, Alba Ribas, Patricia Vico, Ernesto Alterio",
         "Spain",
         "May 15, 2020",
         "2019",
         "88 min",
         "Movie"
        ],
        [
         "21",
         "A Family Man",
         "Mark Williams",
         "Gerard Butler, Gretchen Mol, Alison Brie, Willem Dafoe, Alfred Molina, Maxwell Jenkins, Anupam Kher, Dustin Milligan",
         "Canada, United States",
         "December 15, 2019",
         "2016",
         "110 min",
         "Movie"
        ],
        [
         "22",
         "Boomika (Telugu)",
         "Rathindran R Prasad",
         "Aishwarya Rajesh, Vidhu, Surya Ganapathy, Madhuri, Pavel Navageethan, Avantika Vandanapu",
         "Unknown",
         "August 23, 2021",
         "2021",
         "122 min",
         "Movie"
        ],
        [
         "23",
         "3 Türken & ein Baby",
         "Sinan Akkuş",
         "Kostja Ullmann, Eko Fresh, Kida Khodr Ramadan, Sabrina Klüber, Sami Nasser, Kayla Rybicka, Jytte-Merle Böhrnsen, Emrah Erdogru, Tim Grothe, Hülya Duyar",
         "Germany",
         "December 15, 2016",
         "2015",
         "93 min",
         "Movie"
        ],
        [
         "24",
         "Teenage Bounty Hunters",
         "Not Available",
         "Anjelica Bette Fellini, Maddie Phillips, Kadeem Hardison, Virginia Williams, Mackenzie Astin, Shirley Rumierk, Myles Evans, Devon Hales, Spencer House, Eric Graise, Charity Cervantes, Wynn Everett, Method Man",
         "United States",
         "August 14, 2020",
         "2020",
         "1 Season",
         "TV Show"
        ],
        [
         "25",
         "I'm Sorry",
         "Not Available",
         "Andrea Savage, Tom Everett Scott, Olive Petrucci",
         "United States",
         "September 13, 2019",
         "2019",
         "2 Seasons",
         "TV Show"
        ],
        [
         "26",
         "Taken",
         "Not Available",
         "Clive Standen, Jennifer Beals, Gaius Charles, Brooklyn Sudano, Monique Gabriela Curnen, Michael Irby, James Landry Hébert, Jose Pablo Cantillo, James Landry Hebert",
         "France, United States",
         " January 12, 2019",
         "2018",
         "2 Seasons",
         "TV Show"
        ],
        [
         "27",
         "Harriet the Spy: Blog Wars",
         "Ron Oliver",
         "Jennifer Stone, Kristin Booth, Wesley Morgan, Doug Murray, Shauna MacDonald, Jason Blicker, Jayne Eastwood, Melinda Shankar, Alexander Conti, Vanessa Morgan",
         "United States, Canada",
         "April 15, 2018",
         "2010",
         "87 min",
         "Movie"
        ],
        [
         "28",
         "Jal",
         "Girish Malik",
         "Purab Kohli, Tannishtha Chatterjee, Kirti Kulhari, Yashpal Sharma, Mukul Dev, Saidah Jules, Ravi Gossain, Rahul Singh",
         "India",
         "October 15, 2017",
         "2013",
         "132 min",
         "Movie"
        ],
        [
         "29",
         "Only Mine",
         "Michael Civille",
         "Amber Midthunder, Brett Zimmerman, Chris Browning, Walter Fauntleroy, Claudia Ferri, Lorenzo James Henrie, Ellen Wroe, Ashley Holliday Tavares, Nancy Linehan Charles, Jonna Walsh",
         "United States",
         "April 15, 2021",
         "2019",
         "88 min",
         "Movie"
        ],
        [
         "30",
         "Bibi & Tina: Tohuwabohu Total",
         "Detlev Buck",
         "Lina Larissa Strahl, Lisa-Marie Koroll, Louis Held, Lea van Acken, Emilio Sakraya, Michael Maertens, Martin Seifert",
         "Germany",
         "December 27, 2017",
         "2017",
         "106 min",
         "Movie"
        ],
        [
         "31",
         "Darna Mana Hai",
         "Prawal Raman",
         "Aftab Shivdasani, Antara Mali, Boman Irani, Isha Koppikar, Nana Patekar, Raghuvir Yadav, Rajpal Yadav, Revathy, Saif Ali Khan, Sameera Reddy, Sanjay Kapoor, Shilpa Shetty, Sohail Khan, Vivek Oberoi",
         "India",
         "August 1, 2019",
         "2003",
         "116 min",
         "Movie"
        ],
        [
         "32",
         "Professor",
         "Lekh Tandon",
         "Shammi Kapoor, Kalpana, Lalita Pawar, Parveen Choudhary, Salim, Pratima Devi, Rashid Khan, Bir Sakuja, Bela Bose, Ratnamala",
         "India",
         "July 1, 2017",
         "1962",
         "163 min",
         "Movie"
        ],
        [
         "33",
         "Posesif",
         "Edwin",
         "Putri Marino, Adipati Dolken, Gritte Agatha, Chicco Kurniawan, Yayu Unru, Cut Mini Theo, Ismail Basbeth, Maulidina K. Putri",
         "Indonesia",
         "January 1, 2020",
         "2017",
         "102 min",
         "Movie"
        ],
        [
         "34",
         "The lynx",
         "Stanisław Różewicz",
         "Jerzy Radziwiłowicz, Franciszek Pieczka, Piotr Bajor, Ryszarda Hanin, Janusz Paluszkiewicz, Henryk Machalica, Hanna Mikuć, Maria Klejdysz",
         "Poland",
         "October 1, 2019",
         "1982",
         "82 min",
         "Movie"
        ],
        [
         "35",
         "Nightflyers",
         "Not Available",
         "Eoin Macken, David Ajala, Jodie Turner-Smith, Angus Sampson, Sam Strike, Maya Eshet, Brían F. O'Byrne, Gretchen Mol, Miranda Raison",
         "United States",
         "December 2, 2019",
         "2018",
         "1 Season",
         "TV Show"
        ],
        [
         "36",
         "Eyyvah Eyyvah 3",
         "Hakan Algül",
         "Demet Akbağ, Ata Demirer, Özge Borak, Salih Kalyon, Tanju Tuncel, Serra Yılmaz, Tarık Ünlüoğlu, Ayşenil Şamlıoğlu",
         "Turkey",
         "March 10, 2017",
         "2014",
         "103 min",
         "Movie"
        ],
        [
         "37",
         "Everybody Knows",
         "Asghar Farhadi",
         "Penélope Cruz, Javier Bardem, Ricardo Darín, Eduard Fernández, Bárbara Lennie, Inma Cuesta, Elvira Mínguez, Ramón Barea, Carla Campra, Sara Sálamo, Roger Casamajor, José Ángel Egido",
         "Spain, France, Italy",
         "June 6, 2019",
         "2019",
         "133 min",
         "Movie"
        ],
        [
         "38",
         "Case",
         "Not Available",
         "Steinunn Ólína Þorsteinsdóttir, Magnús Jónsson, Þorsteinn Bachmann, Jóhanna Vigdís Arnardóttir, Birna Rún Eiríksdóttir, Elma Stefania Agustsdottir, Bergur Þór Ingólfsson, Halldóra Geirharðsdóttir, Arnar Jónsson, Davíð Freyr Þórunnarson, Björn Stefánsson, Nína Dögg Filippusdóttir, Hjortur Jóhann Jónsson",
         "Iceland",
         "November 9, 2016",
         "2015",
         "1 Season",
         "TV Show"
        ],
        [
         "39",
         "The Circle",
         "Not Available",
         "Michelle Buteau",
         "United States, United Kingdom",
         "September 8, 2021",
         "2021",
         "3 Seasons",
         "TV Show"
        ],
        [
         "40",
         "Vikings Unearthed",
         "Harvey Lilley",
         "Eric Meyers",
         "United States",
         "March 1, 2017",
         "2016",
         "113 min",
         "Movie"
        ],
        [
         "41",
         "Bad Blood",
         "Not Available",
         "Anthony LaPaglia, Kim Coates, Enrico Colantoni, Paul Sorvino, Maxim Roy, Brett Donahue, Michelle Mylett, Claudia Ferri, Tony Nappo",
         "Canada",
         "May 31, 2019",
         "2019",
         "2 Seasons",
         "TV Show"
        ],
        [
         "42",
         "My Entire High School Sinking Into the Sea",
         "Dash Shaw",
         "Jason Schwartzman, Lena Dunham, Reggie Watts, Maya Rudolph, Susan Sarandon, Thomas Jay Ryan, Alex Karpovsky, Louisa Krause, John Cameron Mitchell, Matthew Maher",
         "United States",
         "January 23, 2018",
         "2016",
         "77 min",
         "Movie"
        ],
        [
         "43",
         "Bob Ross: Happy Accidents, Betrayal & Greed",
         "Joshua Rofé",
         "Bob Ross",
         "Unknown",
         "August 25, 2021",
         "2021",
         "93 min",
         "Movie"
        ],
        [
         "44",
         "This Lady Called Life",
         "Kayode Kasum",
         "Bisola Aiyeola, Efa Iwara, Molawa Onajobi, Tina Mba, Wale Ojo, Jemima Osunde, Lota Chukwu, Samuel Asa'ah, Michael Ejoor, Uche Elumelu",
         "Nigeria",
         "April 23, 2021",
         "2020",
         "120 min",
         "Movie"
        ],
        [
         "45",
         "Don't F**k with Cats: Hunting an Internet Killer",
         "Mark Lewis",
         null,
         "United Kingdom, United States",
         "December 18, 2019",
         "2019",
         "1 Season",
         "TV Show"
        ],
        [
         "46",
         "Memoir of a Murderer",
         "Shin-yeon Won",
         "Kyung-gu Seol, Nam-gil Kim, Seol-hyun Kim, Dal-su Oh, Seok-jeong Hwang, In-Gum Jung, Ki-jun Shin, Jin-young Jang, Rina Shin, Hye-yoon Kim",
         "South Korea",
         "February 19, 2018",
         "2017",
         "118 min",
         "Movie"
        ],
        [
         "47",
         "Barbie & Her Sisters in a Pony Tale",
         "Kyran Kelly",
         "Kelly Sheridan, Kazumi Evans, Claire Corlett, Ashlyn Drummond, Alex Kelly, Tabitha St. Germain, Shannon Chan-Kent",
         "United States",
         "October 1, 2017",
         "2013",
         "74 min",
         "Movie"
        ],
        [
         "48",
         "Your Excellency",
         "Funke Akindele",
         "Akin Lewis, Funke Akindele, Kemi Lala Akindoju, Shaffy Bello, Kunle Coker, Eku Edewor, Alexx Ekubo, Osas Ighodaro Ajibade, Seyi Law, Falz, Chigul, Deyemi Okanlawon, Beverly Osu, Toni Tones, Christian Paul, Bimbo Manuel, Helen Paul",
         "Unknown",
         "July 10, 2020",
         "2019",
         "120 min",
         "Movie"
        ],
        [
         "49",
         "Ferrari Ki Sawaari",
         "Rajesh Mapuskar",
         "Sharman Joshi, Boman Irani, Ritwik Sahore, Paresh Rawal, Deepak Shirke, Satyadeep Misra, Aakash Dabhade, Nilesh Diwekar, Vidya Balan",
         "India",
         "April 1, 2021",
         "2012",
         "133 min",
         "Movie"
        ]
       ],
       "shape": {
        "columns": 8,
        "rows": 500
       }
      },
      "text/html": [
       "<div>\n",
       "<style scoped>\n",
       "    .dataframe tbody tr th:only-of-type {\n",
       "        vertical-align: middle;\n",
       "    }\n",
       "\n",
       "    .dataframe tbody tr th {\n",
       "        vertical-align: top;\n",
       "    }\n",
       "\n",
       "    .dataframe thead th {\n",
       "        text-align: right;\n",
       "    }\n",
       "</style>\n",
       "<table border=\"1\" class=\"dataframe\">\n",
       "  <thead>\n",
       "    <tr style=\"text-align: right;\">\n",
       "      <th></th>\n",
       "      <th>title</th>\n",
       "      <th>director</th>\n",
       "      <th>cast</th>\n",
       "      <th>country</th>\n",
       "      <th>date_added</th>\n",
       "      <th>release_year</th>\n",
       "      <th>duration</th>\n",
       "      <th>content_type</th>\n",
       "    </tr>\n",
       "  </thead>\n",
       "  <tbody>\n",
       "    <tr>\n",
       "      <th>0</th>\n",
       "      <td>Game Over, Man!</td>\n",
       "      <td>Kyle Newacheck</td>\n",
       "      <td>Adam DeVine, Anders Holm, Blake Anderson, Utka...</td>\n",
       "      <td>United States</td>\n",
       "      <td>March 23, 2018</td>\n",
       "      <td>2018</td>\n",
       "      <td>102 min</td>\n",
       "      <td>Movie</td>\n",
       "    </tr>\n",
       "    <tr>\n",
       "      <th>1</th>\n",
       "      <td>Arsenio Hall: Smart &amp; Classy</td>\n",
       "      <td>Brian Volk-Weiss</td>\n",
       "      <td>Arsenio Hall</td>\n",
       "      <td>United States</td>\n",
       "      <td>October 29, 2019</td>\n",
       "      <td>2019</td>\n",
       "      <td>63 min</td>\n",
       "      <td>Movie</td>\n",
       "    </tr>\n",
       "    <tr>\n",
       "      <th>2</th>\n",
       "      <td>Kazoops!</td>\n",
       "      <td>Not Available</td>\n",
       "      <td>Reece Pockney, Scott Langley, Alex Babic, Gemm...</td>\n",
       "      <td>Australia</td>\n",
       "      <td>May 5, 2017</td>\n",
       "      <td>2017</td>\n",
       "      <td>3 Seasons</td>\n",
       "      <td>TV Show</td>\n",
       "    </tr>\n",
       "    <tr>\n",
       "      <th>3</th>\n",
       "      <td>We Are the Champions</td>\n",
       "      <td>Not Available</td>\n",
       "      <td>NaN</td>\n",
       "      <td>United States</td>\n",
       "      <td>November 17, 2020</td>\n",
       "      <td>2020</td>\n",
       "      <td>1 Season</td>\n",
       "      <td>TV Show</td>\n",
       "    </tr>\n",
       "    <tr>\n",
       "      <th>4</th>\n",
       "      <td>Pablo Escobar, el patrón del mal</td>\n",
       "      <td>Not Available</td>\n",
       "      <td>Andrés Parra, Angie Cepeda, Cecilia Navia, Vic...</td>\n",
       "      <td>Colombia</td>\n",
       "      <td>February 3, 2021</td>\n",
       "      <td>2012</td>\n",
       "      <td>1 Season</td>\n",
       "      <td>TV Show</td>\n",
       "    </tr>\n",
       "    <tr>\n",
       "      <th>...</th>\n",
       "      <td>...</td>\n",
       "      <td>...</td>\n",
       "      <td>...</td>\n",
       "      <td>...</td>\n",
       "      <td>...</td>\n",
       "      <td>...</td>\n",
       "      <td>...</td>\n",
       "      <td>...</td>\n",
       "    </tr>\n",
       "    <tr>\n",
       "      <th>495</th>\n",
       "      <td>Sebastián Marcelo Wainraich</td>\n",
       "      <td>Raúl Campos, Jan Suter</td>\n",
       "      <td>Sebastián Marcelo Wainraich</td>\n",
       "      <td>Argentina</td>\n",
       "      <td>January 26, 2018</td>\n",
       "      <td>2018</td>\n",
       "      <td>49 min</td>\n",
       "      <td>Movie</td>\n",
       "    </tr>\n",
       "    <tr>\n",
       "      <th>496</th>\n",
       "      <td>The Mistress</td>\n",
       "      <td>Olivia M. Lamasan</td>\n",
       "      <td>John Lloyd Cruz, Bea Alonzo, Hilda Koronel, Ro...</td>\n",
       "      <td>Philippines</td>\n",
       "      <td>February 27, 2019</td>\n",
       "      <td>2012</td>\n",
       "      <td>132 min</td>\n",
       "      <td>Movie</td>\n",
       "    </tr>\n",
       "    <tr>\n",
       "      <th>497</th>\n",
       "      <td>Korean Cold Noodle Rhapsody</td>\n",
       "      <td>Not Available</td>\n",
       "      <td>Paik Jong-won</td>\n",
       "      <td>Unknown</td>\n",
       "      <td>August 20, 2021</td>\n",
       "      <td>2021</td>\n",
       "      <td>1 Season</td>\n",
       "      <td>TV Show</td>\n",
       "    </tr>\n",
       "    <tr>\n",
       "      <th>498</th>\n",
       "      <td>Look for a Star</td>\n",
       "      <td>Andrew Lau Wai-Keung</td>\n",
       "      <td>Andy Lau, Qi Shu, Zhang Hanyu, Denise Ho, Domi...</td>\n",
       "      <td>Hong Kong</td>\n",
       "      <td>December 1, 2018</td>\n",
       "      <td>2009</td>\n",
       "      <td>117 min</td>\n",
       "      <td>Movie</td>\n",
       "    </tr>\n",
       "    <tr>\n",
       "      <th>499</th>\n",
       "      <td>40 Sticks</td>\n",
       "      <td>Victor Gatonye</td>\n",
       "      <td>Robert Agengo, Mwaura Bilal, Andreo Kamau, Caj...</td>\n",
       "      <td>Kenya</td>\n",
       "      <td>November 20, 2020</td>\n",
       "      <td>2019</td>\n",
       "      <td>93 min</td>\n",
       "      <td>Movie</td>\n",
       "    </tr>\n",
       "  </tbody>\n",
       "</table>\n",
       "<p>500 rows × 8 columns</p>\n",
       "</div>"
      ],
      "text/plain": [
       "                                title                director  \\\n",
       "0                     Game Over, Man!          Kyle Newacheck   \n",
       "1        Arsenio Hall: Smart & Classy        Brian Volk-Weiss   \n",
       "2                            Kazoops!           Not Available   \n",
       "3                We Are the Champions           Not Available   \n",
       "4    Pablo Escobar, el patrón del mal           Not Available   \n",
       "..                                ...                     ...   \n",
       "495       Sebastián Marcelo Wainraich  Raúl Campos, Jan Suter   \n",
       "496                      The Mistress       Olivia M. Lamasan   \n",
       "497       Korean Cold Noodle Rhapsody           Not Available   \n",
       "498                   Look for a Star    Andrew Lau Wai-Keung   \n",
       "499                         40 Sticks          Victor Gatonye   \n",
       "\n",
       "                                                  cast        country  \\\n",
       "0    Adam DeVine, Anders Holm, Blake Anderson, Utka...  United States   \n",
       "1                                         Arsenio Hall  United States   \n",
       "2    Reece Pockney, Scott Langley, Alex Babic, Gemm...      Australia   \n",
       "3                                                  NaN  United States   \n",
       "4    Andrés Parra, Angie Cepeda, Cecilia Navia, Vic...       Colombia   \n",
       "..                                                 ...            ...   \n",
       "495                        Sebastián Marcelo Wainraich      Argentina   \n",
       "496  John Lloyd Cruz, Bea Alonzo, Hilda Koronel, Ro...    Philippines   \n",
       "497                                      Paik Jong-won        Unknown   \n",
       "498  Andy Lau, Qi Shu, Zhang Hanyu, Denise Ho, Domi...      Hong Kong   \n",
       "499  Robert Agengo, Mwaura Bilal, Andreo Kamau, Caj...          Kenya   \n",
       "\n",
       "            date_added  release_year   duration content_type  \n",
       "0       March 23, 2018          2018    102 min        Movie  \n",
       "1     October 29, 2019          2019     63 min        Movie  \n",
       "2          May 5, 2017          2017  3 Seasons      TV Show  \n",
       "3    November 17, 2020          2020   1 Season      TV Show  \n",
       "4     February 3, 2021          2012   1 Season      TV Show  \n",
       "..                 ...           ...        ...          ...  \n",
       "495   January 26, 2018          2018     49 min        Movie  \n",
       "496  February 27, 2019          2012    132 min        Movie  \n",
       "497    August 20, 2021          2021   1 Season      TV Show  \n",
       "498   December 1, 2018          2009    117 min        Movie  \n",
       "499  November 20, 2020          2019     93 min        Movie  \n",
       "\n",
       "[500 rows x 8 columns]"
      ]
     },
     "execution_count": 66,
     "metadata": {},
     "output_type": "execute_result"
    }
   ],
   "source": [
    "list=[]\n",
    "\n",
    "for i in netflix_df[\"duration\"]:\n",
    "    if \"min\" in i:\n",
    "        list+=[\"Movie\"]\n",
    "    elif \"Season\" in i:\n",
    "        list+=[\"TV Show\"]\n",
    "\n",
    "\n",
    "\n",
    "\n",
    "netflix_df[\"content_type\"]=list\n",
    "netflix_df"
   ]
  },
  {
   "cell_type": "markdown",
   "id": "7b56d906",
   "metadata": {},
   "source": [
    "# Q10 Add a column years_since_release that shows how many years have passed since the release year (assuming current year is 2025)."
   ]
  },
  {
   "cell_type": "code",
   "execution_count": 67,
   "id": "6f43398c",
   "metadata": {},
   "outputs": [
    {
     "data": {
      "application/vnd.microsoft.datawrangler.viewer.v0+json": {
       "columns": [
        {
         "name": "index",
         "rawType": "int64",
         "type": "integer"
        },
        {
         "name": "title",
         "rawType": "object",
         "type": "string"
        },
        {
         "name": "director",
         "rawType": "object",
         "type": "string"
        },
        {
         "name": "cast",
         "rawType": "object",
         "type": "unknown"
        },
        {
         "name": "country",
         "rawType": "object",
         "type": "string"
        },
        {
         "name": "date_added",
         "rawType": "object",
         "type": "string"
        },
        {
         "name": "release_year",
         "rawType": "int64",
         "type": "integer"
        },
        {
         "name": "duration",
         "rawType": "object",
         "type": "string"
        },
        {
         "name": "content_type",
         "rawType": "object",
         "type": "string"
        },
        {
         "name": "year_since_release",
         "rawType": "int64",
         "type": "integer"
        }
       ],
       "ref": "eb6a5c77-0217-45d8-826a-e3609077f3bb",
       "rows": [
        [
         "0",
         "Game Over, Man!",
         "Kyle Newacheck",
         "Adam DeVine, Anders Holm, Blake Anderson, Utkarsh Ambudkar, Aya Cash, Neal McDonough, Daniel Stern, Jamie Demetriou, Rhona Mitra, Sam Richardson, Steve Howey, Mac Brandt, Geno Segers, Roe Hartrampf",
         "United States",
         "March 23, 2018",
         "2018",
         "102 min",
         "Movie",
         "7"
        ],
        [
         "1",
         "Arsenio Hall: Smart & Classy",
         "Brian Volk-Weiss",
         "Arsenio Hall",
         "United States",
         "October 29, 2019",
         "2019",
         "63 min",
         "Movie",
         "6"
        ],
        [
         "2",
         "Kazoops!",
         "Not Available",
         "Reece Pockney, Scott Langley, Alex Babic, Gemma Harvey, Jessica Hann, Emma Tate",
         "Australia",
         "May 5, 2017",
         "2017",
         "3 Seasons",
         "TV Show",
         "8"
        ],
        [
         "3",
         "We Are the Champions",
         "Not Available",
         null,
         "United States",
         "November 17, 2020",
         "2020",
         "1 Season",
         "TV Show",
         "5"
        ],
        [
         "4",
         "Pablo Escobar, el patrón del mal",
         "Not Available",
         "Andrés Parra, Angie Cepeda, Cecilia Navia, Vicky Hernández, Christian Tappan, Rodolfo Silva, Tommy Vásquez, Toto Vega, Nicolás Montero, Marcela Gallego",
         "Colombia",
         "February 3, 2021",
         "2012",
         "1 Season",
         "TV Show",
         "13"
        ],
        [
         "5",
         "Saint Seiya: The Lost Canvas",
         "Not Available",
         "Tetsuya Kakihara, Hiro Shimono, Aya Hirano, Atsushi Abe, Sanae Kobayashi, Kenta Miyake, Tomohiro Tsuboi, Nana Mizuki, Shigeru Chiba",
         "Japan",
         "May 15, 2018",
         "2009",
         "1 Season",
         "TV Show",
         "16"
        ],
        [
         "6",
         "Fauda",
         "Not Available",
         "Lior Raz, Hisham Suliman, Shadi Mar'i, Laëtitia Eïdo, Tsahi Halevi, Yuval Segal, Neta Garty, Tomer Kapon, Itzik Cohen, Rona-Lee Shim'on, Boaz Konforty, Doron Ben-David",
         "Israel",
         "April 16, 2020",
         "2020",
         "3 Seasons",
         "TV Show",
         "5"
        ],
        [
         "7",
         "The Cook of Castamar",
         "Not Available",
         "Michelle Jenner, Roberto Enríquez, Hugo Silva, Maxi Iglesias, María Hervás, Agnès Llobet, Paula Usero, Jean Cruz, Óscar Rabadán, Fiorella Faltoyano, Nancho Novo, Silvia Abascal, Mónica López",
         "Unknown",
         "July 9, 2021",
         "2021",
         "1 Season",
         "TV Show",
         "4"
        ],
        [
         "8",
         "The App That Stole Christmas",
         "Monica Floyd",
         "Jackie Long, Diane Marie Howard, Jaylin Hall, Miguel A. Núñez Jr., Ray J, JayQ The Legend, J. Anthony Brown, Kenny Rhodes, Amber Cosich",
         "United States",
         "November 20, 2020",
         "2020",
         "64 min",
         "Movie",
         "5"
        ],
        [
         "9",
         "Mute",
         "Duncan Jones",
         "Alexander Skarsgård, Paul Rudd, Justin Theroux",
         "United Kingdom, Germany",
         "February 23, 2018",
         "2018",
         "127 min",
         "Movie",
         "7"
        ],
        [
         "10",
         "Drugs, Inc.",
         "Not Available",
         "Mike Secher",
         "United States",
         "March 23, 2019",
         "2015",
         "1 Season",
         "TV Show",
         "10"
        ],
        [
         "11",
         "Den of Thieves",
         "Christian Gudegast",
         "Gerard Butler, Pablo Schreiber, O'Shea Jackson Jr., 50 Cent, Meadow Williams, Maurice Compte, Brian Van Holt, Evan Jones, Mo McRae, Kaiwi Lyman",
         "United States",
         "May 1, 2020",
         "2018",
         "140 min",
         "Movie",
         "7"
        ],
        [
         "12",
         "The President's Barber",
         "Chan-sang Lim",
         "Kang-ho Song, So-ri Moon, Jae-eung Lee, Yeong-jin Jo, Byung-ho Son, Yong-soo park, Seung-soo Ryu, Ju-sang Yun, Gyu-su Jeong, Dal-su Oh",
         "South Korea",
         "October 1, 2017",
         "2004",
         "116 min",
         "Movie",
         "21"
        ],
        [
         "13",
         "The Dirt",
         "Jeff Tremaine",
         "Douglas Booth, Iwan Rheon, Colson Baker, Daniel Webber, David Costabile, Pete Davidson",
         "United States",
         "March 22, 2019",
         "2019",
         "108 min",
         "Movie",
         "6"
        ],
        [
         "14",
         "Brews Brothers",
         "Not Available",
         "Alan Aisenberg, Mike Castle, Carmen Flood, Marques Ray",
         "United States",
         "April 10, 2020",
         "2020",
         "1 Season",
         "TV Show",
         "5"
        ],
        [
         "15",
         "Rodney Carrington: Here Comes the Truth",
         "Brandon Jones",
         "Rodney Carrington",
         "United States",
         "October 3, 2017",
         "2017",
         "66 min",
         "Movie",
         "8"
        ],
        [
         "16",
         "Planet Hulk",
         "Sam Liu",
         "Rick D. Wasserman, Lisa Ann Beley, Mark Hildreth, Liam O'Brien, Kevin Michael Richardson, Sam Vincent, Advah Soudack, Michael Kopsa, Paul Dobson, Marc Worden",
         "United States",
         "June 1, 2020",
         "2010",
         "81 min",
         "Movie",
         "15"
        ],
        [
         "17",
         "Tree Man",
         "Jon Reiner, Brad Rothschild",
         null,
         "Canada",
         "November 1, 2016",
         "2015",
         "82 min",
         "Movie",
         "10"
        ],
        [
         "18",
         "Ladies First",
         "Uraaz Bahl",
         null,
         "India",
         "March 8, 2018",
         "2018",
         "40 min",
         "Movie",
         "7"
        ],
        [
         "19",
         "King Jack",
         "Felix Thompson",
         "Charlie Plummer, Cory Nichols, Christian Madsen, Danny Flaherty, Erin Davie, Chloe Levine",
         "United States",
         "July 1, 2016",
         "2015",
         "81 min",
         "Movie",
         "10"
        ],
        [
         "20",
         "I love you, stupid",
         "Laura Mañá",
         "Quim Gutiérrez, Natalia Tena, Alfonso Bassave, Alba Ribas, Patricia Vico, Ernesto Alterio",
         "Spain",
         "May 15, 2020",
         "2019",
         "88 min",
         "Movie",
         "6"
        ],
        [
         "21",
         "A Family Man",
         "Mark Williams",
         "Gerard Butler, Gretchen Mol, Alison Brie, Willem Dafoe, Alfred Molina, Maxwell Jenkins, Anupam Kher, Dustin Milligan",
         "Canada, United States",
         "December 15, 2019",
         "2016",
         "110 min",
         "Movie",
         "9"
        ],
        [
         "22",
         "Boomika (Telugu)",
         "Rathindran R Prasad",
         "Aishwarya Rajesh, Vidhu, Surya Ganapathy, Madhuri, Pavel Navageethan, Avantika Vandanapu",
         "Unknown",
         "August 23, 2021",
         "2021",
         "122 min",
         "Movie",
         "4"
        ],
        [
         "23",
         "3 Türken & ein Baby",
         "Sinan Akkuş",
         "Kostja Ullmann, Eko Fresh, Kida Khodr Ramadan, Sabrina Klüber, Sami Nasser, Kayla Rybicka, Jytte-Merle Böhrnsen, Emrah Erdogru, Tim Grothe, Hülya Duyar",
         "Germany",
         "December 15, 2016",
         "2015",
         "93 min",
         "Movie",
         "10"
        ],
        [
         "24",
         "Teenage Bounty Hunters",
         "Not Available",
         "Anjelica Bette Fellini, Maddie Phillips, Kadeem Hardison, Virginia Williams, Mackenzie Astin, Shirley Rumierk, Myles Evans, Devon Hales, Spencer House, Eric Graise, Charity Cervantes, Wynn Everett, Method Man",
         "United States",
         "August 14, 2020",
         "2020",
         "1 Season",
         "TV Show",
         "5"
        ],
        [
         "25",
         "I'm Sorry",
         "Not Available",
         "Andrea Savage, Tom Everett Scott, Olive Petrucci",
         "United States",
         "September 13, 2019",
         "2019",
         "2 Seasons",
         "TV Show",
         "6"
        ],
        [
         "26",
         "Taken",
         "Not Available",
         "Clive Standen, Jennifer Beals, Gaius Charles, Brooklyn Sudano, Monique Gabriela Curnen, Michael Irby, James Landry Hébert, Jose Pablo Cantillo, James Landry Hebert",
         "France, United States",
         " January 12, 2019",
         "2018",
         "2 Seasons",
         "TV Show",
         "7"
        ],
        [
         "27",
         "Harriet the Spy: Blog Wars",
         "Ron Oliver",
         "Jennifer Stone, Kristin Booth, Wesley Morgan, Doug Murray, Shauna MacDonald, Jason Blicker, Jayne Eastwood, Melinda Shankar, Alexander Conti, Vanessa Morgan",
         "United States, Canada",
         "April 15, 2018",
         "2010",
         "87 min",
         "Movie",
         "15"
        ],
        [
         "28",
         "Jal",
         "Girish Malik",
         "Purab Kohli, Tannishtha Chatterjee, Kirti Kulhari, Yashpal Sharma, Mukul Dev, Saidah Jules, Ravi Gossain, Rahul Singh",
         "India",
         "October 15, 2017",
         "2013",
         "132 min",
         "Movie",
         "12"
        ],
        [
         "29",
         "Only Mine",
         "Michael Civille",
         "Amber Midthunder, Brett Zimmerman, Chris Browning, Walter Fauntleroy, Claudia Ferri, Lorenzo James Henrie, Ellen Wroe, Ashley Holliday Tavares, Nancy Linehan Charles, Jonna Walsh",
         "United States",
         "April 15, 2021",
         "2019",
         "88 min",
         "Movie",
         "6"
        ],
        [
         "30",
         "Bibi & Tina: Tohuwabohu Total",
         "Detlev Buck",
         "Lina Larissa Strahl, Lisa-Marie Koroll, Louis Held, Lea van Acken, Emilio Sakraya, Michael Maertens, Martin Seifert",
         "Germany",
         "December 27, 2017",
         "2017",
         "106 min",
         "Movie",
         "8"
        ],
        [
         "31",
         "Darna Mana Hai",
         "Prawal Raman",
         "Aftab Shivdasani, Antara Mali, Boman Irani, Isha Koppikar, Nana Patekar, Raghuvir Yadav, Rajpal Yadav, Revathy, Saif Ali Khan, Sameera Reddy, Sanjay Kapoor, Shilpa Shetty, Sohail Khan, Vivek Oberoi",
         "India",
         "August 1, 2019",
         "2003",
         "116 min",
         "Movie",
         "22"
        ],
        [
         "32",
         "Professor",
         "Lekh Tandon",
         "Shammi Kapoor, Kalpana, Lalita Pawar, Parveen Choudhary, Salim, Pratima Devi, Rashid Khan, Bir Sakuja, Bela Bose, Ratnamala",
         "India",
         "July 1, 2017",
         "1962",
         "163 min",
         "Movie",
         "63"
        ],
        [
         "33",
         "Posesif",
         "Edwin",
         "Putri Marino, Adipati Dolken, Gritte Agatha, Chicco Kurniawan, Yayu Unru, Cut Mini Theo, Ismail Basbeth, Maulidina K. Putri",
         "Indonesia",
         "January 1, 2020",
         "2017",
         "102 min",
         "Movie",
         "8"
        ],
        [
         "34",
         "The lynx",
         "Stanisław Różewicz",
         "Jerzy Radziwiłowicz, Franciszek Pieczka, Piotr Bajor, Ryszarda Hanin, Janusz Paluszkiewicz, Henryk Machalica, Hanna Mikuć, Maria Klejdysz",
         "Poland",
         "October 1, 2019",
         "1982",
         "82 min",
         "Movie",
         "43"
        ],
        [
         "35",
         "Nightflyers",
         "Not Available",
         "Eoin Macken, David Ajala, Jodie Turner-Smith, Angus Sampson, Sam Strike, Maya Eshet, Brían F. O'Byrne, Gretchen Mol, Miranda Raison",
         "United States",
         "December 2, 2019",
         "2018",
         "1 Season",
         "TV Show",
         "7"
        ],
        [
         "36",
         "Eyyvah Eyyvah 3",
         "Hakan Algül",
         "Demet Akbağ, Ata Demirer, Özge Borak, Salih Kalyon, Tanju Tuncel, Serra Yılmaz, Tarık Ünlüoğlu, Ayşenil Şamlıoğlu",
         "Turkey",
         "March 10, 2017",
         "2014",
         "103 min",
         "Movie",
         "11"
        ],
        [
         "37",
         "Everybody Knows",
         "Asghar Farhadi",
         "Penélope Cruz, Javier Bardem, Ricardo Darín, Eduard Fernández, Bárbara Lennie, Inma Cuesta, Elvira Mínguez, Ramón Barea, Carla Campra, Sara Sálamo, Roger Casamajor, José Ángel Egido",
         "Spain, France, Italy",
         "June 6, 2019",
         "2019",
         "133 min",
         "Movie",
         "6"
        ],
        [
         "38",
         "Case",
         "Not Available",
         "Steinunn Ólína Þorsteinsdóttir, Magnús Jónsson, Þorsteinn Bachmann, Jóhanna Vigdís Arnardóttir, Birna Rún Eiríksdóttir, Elma Stefania Agustsdottir, Bergur Þór Ingólfsson, Halldóra Geirharðsdóttir, Arnar Jónsson, Davíð Freyr Þórunnarson, Björn Stefánsson, Nína Dögg Filippusdóttir, Hjortur Jóhann Jónsson",
         "Iceland",
         "November 9, 2016",
         "2015",
         "1 Season",
         "TV Show",
         "10"
        ],
        [
         "39",
         "The Circle",
         "Not Available",
         "Michelle Buteau",
         "United States, United Kingdom",
         "September 8, 2021",
         "2021",
         "3 Seasons",
         "TV Show",
         "4"
        ],
        [
         "40",
         "Vikings Unearthed",
         "Harvey Lilley",
         "Eric Meyers",
         "United States",
         "March 1, 2017",
         "2016",
         "113 min",
         "Movie",
         "9"
        ],
        [
         "41",
         "Bad Blood",
         "Not Available",
         "Anthony LaPaglia, Kim Coates, Enrico Colantoni, Paul Sorvino, Maxim Roy, Brett Donahue, Michelle Mylett, Claudia Ferri, Tony Nappo",
         "Canada",
         "May 31, 2019",
         "2019",
         "2 Seasons",
         "TV Show",
         "6"
        ],
        [
         "42",
         "My Entire High School Sinking Into the Sea",
         "Dash Shaw",
         "Jason Schwartzman, Lena Dunham, Reggie Watts, Maya Rudolph, Susan Sarandon, Thomas Jay Ryan, Alex Karpovsky, Louisa Krause, John Cameron Mitchell, Matthew Maher",
         "United States",
         "January 23, 2018",
         "2016",
         "77 min",
         "Movie",
         "9"
        ],
        [
         "43",
         "Bob Ross: Happy Accidents, Betrayal & Greed",
         "Joshua Rofé",
         "Bob Ross",
         "Unknown",
         "August 25, 2021",
         "2021",
         "93 min",
         "Movie",
         "4"
        ],
        [
         "44",
         "This Lady Called Life",
         "Kayode Kasum",
         "Bisola Aiyeola, Efa Iwara, Molawa Onajobi, Tina Mba, Wale Ojo, Jemima Osunde, Lota Chukwu, Samuel Asa'ah, Michael Ejoor, Uche Elumelu",
         "Nigeria",
         "April 23, 2021",
         "2020",
         "120 min",
         "Movie",
         "5"
        ],
        [
         "45",
         "Don't F**k with Cats: Hunting an Internet Killer",
         "Mark Lewis",
         null,
         "United Kingdom, United States",
         "December 18, 2019",
         "2019",
         "1 Season",
         "TV Show",
         "6"
        ],
        [
         "46",
         "Memoir of a Murderer",
         "Shin-yeon Won",
         "Kyung-gu Seol, Nam-gil Kim, Seol-hyun Kim, Dal-su Oh, Seok-jeong Hwang, In-Gum Jung, Ki-jun Shin, Jin-young Jang, Rina Shin, Hye-yoon Kim",
         "South Korea",
         "February 19, 2018",
         "2017",
         "118 min",
         "Movie",
         "8"
        ],
        [
         "47",
         "Barbie & Her Sisters in a Pony Tale",
         "Kyran Kelly",
         "Kelly Sheridan, Kazumi Evans, Claire Corlett, Ashlyn Drummond, Alex Kelly, Tabitha St. Germain, Shannon Chan-Kent",
         "United States",
         "October 1, 2017",
         "2013",
         "74 min",
         "Movie",
         "12"
        ],
        [
         "48",
         "Your Excellency",
         "Funke Akindele",
         "Akin Lewis, Funke Akindele, Kemi Lala Akindoju, Shaffy Bello, Kunle Coker, Eku Edewor, Alexx Ekubo, Osas Ighodaro Ajibade, Seyi Law, Falz, Chigul, Deyemi Okanlawon, Beverly Osu, Toni Tones, Christian Paul, Bimbo Manuel, Helen Paul",
         "Unknown",
         "July 10, 2020",
         "2019",
         "120 min",
         "Movie",
         "6"
        ],
        [
         "49",
         "Ferrari Ki Sawaari",
         "Rajesh Mapuskar",
         "Sharman Joshi, Boman Irani, Ritwik Sahore, Paresh Rawal, Deepak Shirke, Satyadeep Misra, Aakash Dabhade, Nilesh Diwekar, Vidya Balan",
         "India",
         "April 1, 2021",
         "2012",
         "133 min",
         "Movie",
         "13"
        ]
       ],
       "shape": {
        "columns": 9,
        "rows": 500
       }
      },
      "text/html": [
       "<div>\n",
       "<style scoped>\n",
       "    .dataframe tbody tr th:only-of-type {\n",
       "        vertical-align: middle;\n",
       "    }\n",
       "\n",
       "    .dataframe tbody tr th {\n",
       "        vertical-align: top;\n",
       "    }\n",
       "\n",
       "    .dataframe thead th {\n",
       "        text-align: right;\n",
       "    }\n",
       "</style>\n",
       "<table border=\"1\" class=\"dataframe\">\n",
       "  <thead>\n",
       "    <tr style=\"text-align: right;\">\n",
       "      <th></th>\n",
       "      <th>title</th>\n",
       "      <th>director</th>\n",
       "      <th>cast</th>\n",
       "      <th>country</th>\n",
       "      <th>date_added</th>\n",
       "      <th>release_year</th>\n",
       "      <th>duration</th>\n",
       "      <th>content_type</th>\n",
       "      <th>year_since_release</th>\n",
       "    </tr>\n",
       "  </thead>\n",
       "  <tbody>\n",
       "    <tr>\n",
       "      <th>0</th>\n",
       "      <td>Game Over, Man!</td>\n",
       "      <td>Kyle Newacheck</td>\n",
       "      <td>Adam DeVine, Anders Holm, Blake Anderson, Utka...</td>\n",
       "      <td>United States</td>\n",
       "      <td>March 23, 2018</td>\n",
       "      <td>2018</td>\n",
       "      <td>102 min</td>\n",
       "      <td>Movie</td>\n",
       "      <td>7</td>\n",
       "    </tr>\n",
       "    <tr>\n",
       "      <th>1</th>\n",
       "      <td>Arsenio Hall: Smart &amp; Classy</td>\n",
       "      <td>Brian Volk-Weiss</td>\n",
       "      <td>Arsenio Hall</td>\n",
       "      <td>United States</td>\n",
       "      <td>October 29, 2019</td>\n",
       "      <td>2019</td>\n",
       "      <td>63 min</td>\n",
       "      <td>Movie</td>\n",
       "      <td>6</td>\n",
       "    </tr>\n",
       "    <tr>\n",
       "      <th>2</th>\n",
       "      <td>Kazoops!</td>\n",
       "      <td>Not Available</td>\n",
       "      <td>Reece Pockney, Scott Langley, Alex Babic, Gemm...</td>\n",
       "      <td>Australia</td>\n",
       "      <td>May 5, 2017</td>\n",
       "      <td>2017</td>\n",
       "      <td>3 Seasons</td>\n",
       "      <td>TV Show</td>\n",
       "      <td>8</td>\n",
       "    </tr>\n",
       "    <tr>\n",
       "      <th>3</th>\n",
       "      <td>We Are the Champions</td>\n",
       "      <td>Not Available</td>\n",
       "      <td>NaN</td>\n",
       "      <td>United States</td>\n",
       "      <td>November 17, 2020</td>\n",
       "      <td>2020</td>\n",
       "      <td>1 Season</td>\n",
       "      <td>TV Show</td>\n",
       "      <td>5</td>\n",
       "    </tr>\n",
       "    <tr>\n",
       "      <th>4</th>\n",
       "      <td>Pablo Escobar, el patrón del mal</td>\n",
       "      <td>Not Available</td>\n",
       "      <td>Andrés Parra, Angie Cepeda, Cecilia Navia, Vic...</td>\n",
       "      <td>Colombia</td>\n",
       "      <td>February 3, 2021</td>\n",
       "      <td>2012</td>\n",
       "      <td>1 Season</td>\n",
       "      <td>TV Show</td>\n",
       "      <td>13</td>\n",
       "    </tr>\n",
       "    <tr>\n",
       "      <th>...</th>\n",
       "      <td>...</td>\n",
       "      <td>...</td>\n",
       "      <td>...</td>\n",
       "      <td>...</td>\n",
       "      <td>...</td>\n",
       "      <td>...</td>\n",
       "      <td>...</td>\n",
       "      <td>...</td>\n",
       "      <td>...</td>\n",
       "    </tr>\n",
       "    <tr>\n",
       "      <th>495</th>\n",
       "      <td>Sebastián Marcelo Wainraich</td>\n",
       "      <td>Raúl Campos, Jan Suter</td>\n",
       "      <td>Sebastián Marcelo Wainraich</td>\n",
       "      <td>Argentina</td>\n",
       "      <td>January 26, 2018</td>\n",
       "      <td>2018</td>\n",
       "      <td>49 min</td>\n",
       "      <td>Movie</td>\n",
       "      <td>7</td>\n",
       "    </tr>\n",
       "    <tr>\n",
       "      <th>496</th>\n",
       "      <td>The Mistress</td>\n",
       "      <td>Olivia M. Lamasan</td>\n",
       "      <td>John Lloyd Cruz, Bea Alonzo, Hilda Koronel, Ro...</td>\n",
       "      <td>Philippines</td>\n",
       "      <td>February 27, 2019</td>\n",
       "      <td>2012</td>\n",
       "      <td>132 min</td>\n",
       "      <td>Movie</td>\n",
       "      <td>13</td>\n",
       "    </tr>\n",
       "    <tr>\n",
       "      <th>497</th>\n",
       "      <td>Korean Cold Noodle Rhapsody</td>\n",
       "      <td>Not Available</td>\n",
       "      <td>Paik Jong-won</td>\n",
       "      <td>Unknown</td>\n",
       "      <td>August 20, 2021</td>\n",
       "      <td>2021</td>\n",
       "      <td>1 Season</td>\n",
       "      <td>TV Show</td>\n",
       "      <td>4</td>\n",
       "    </tr>\n",
       "    <tr>\n",
       "      <th>498</th>\n",
       "      <td>Look for a Star</td>\n",
       "      <td>Andrew Lau Wai-Keung</td>\n",
       "      <td>Andy Lau, Qi Shu, Zhang Hanyu, Denise Ho, Domi...</td>\n",
       "      <td>Hong Kong</td>\n",
       "      <td>December 1, 2018</td>\n",
       "      <td>2009</td>\n",
       "      <td>117 min</td>\n",
       "      <td>Movie</td>\n",
       "      <td>16</td>\n",
       "    </tr>\n",
       "    <tr>\n",
       "      <th>499</th>\n",
       "      <td>40 Sticks</td>\n",
       "      <td>Victor Gatonye</td>\n",
       "      <td>Robert Agengo, Mwaura Bilal, Andreo Kamau, Caj...</td>\n",
       "      <td>Kenya</td>\n",
       "      <td>November 20, 2020</td>\n",
       "      <td>2019</td>\n",
       "      <td>93 min</td>\n",
       "      <td>Movie</td>\n",
       "      <td>6</td>\n",
       "    </tr>\n",
       "  </tbody>\n",
       "</table>\n",
       "<p>500 rows × 9 columns</p>\n",
       "</div>"
      ],
      "text/plain": [
       "                                title                director  \\\n",
       "0                     Game Over, Man!          Kyle Newacheck   \n",
       "1        Arsenio Hall: Smart & Classy        Brian Volk-Weiss   \n",
       "2                            Kazoops!           Not Available   \n",
       "3                We Are the Champions           Not Available   \n",
       "4    Pablo Escobar, el patrón del mal           Not Available   \n",
       "..                                ...                     ...   \n",
       "495       Sebastián Marcelo Wainraich  Raúl Campos, Jan Suter   \n",
       "496                      The Mistress       Olivia M. Lamasan   \n",
       "497       Korean Cold Noodle Rhapsody           Not Available   \n",
       "498                   Look for a Star    Andrew Lau Wai-Keung   \n",
       "499                         40 Sticks          Victor Gatonye   \n",
       "\n",
       "                                                  cast        country  \\\n",
       "0    Adam DeVine, Anders Holm, Blake Anderson, Utka...  United States   \n",
       "1                                         Arsenio Hall  United States   \n",
       "2    Reece Pockney, Scott Langley, Alex Babic, Gemm...      Australia   \n",
       "3                                                  NaN  United States   \n",
       "4    Andrés Parra, Angie Cepeda, Cecilia Navia, Vic...       Colombia   \n",
       "..                                                 ...            ...   \n",
       "495                        Sebastián Marcelo Wainraich      Argentina   \n",
       "496  John Lloyd Cruz, Bea Alonzo, Hilda Koronel, Ro...    Philippines   \n",
       "497                                      Paik Jong-won        Unknown   \n",
       "498  Andy Lau, Qi Shu, Zhang Hanyu, Denise Ho, Domi...      Hong Kong   \n",
       "499  Robert Agengo, Mwaura Bilal, Andreo Kamau, Caj...          Kenya   \n",
       "\n",
       "            date_added  release_year   duration content_type  \\\n",
       "0       March 23, 2018          2018    102 min        Movie   \n",
       "1     October 29, 2019          2019     63 min        Movie   \n",
       "2          May 5, 2017          2017  3 Seasons      TV Show   \n",
       "3    November 17, 2020          2020   1 Season      TV Show   \n",
       "4     February 3, 2021          2012   1 Season      TV Show   \n",
       "..                 ...           ...        ...          ...   \n",
       "495   January 26, 2018          2018     49 min        Movie   \n",
       "496  February 27, 2019          2012    132 min        Movie   \n",
       "497    August 20, 2021          2021   1 Season      TV Show   \n",
       "498   December 1, 2018          2009    117 min        Movie   \n",
       "499  November 20, 2020          2019     93 min        Movie   \n",
       "\n",
       "     year_since_release  \n",
       "0                     7  \n",
       "1                     6  \n",
       "2                     8  \n",
       "3                     5  \n",
       "4                    13  \n",
       "..                  ...  \n",
       "495                   7  \n",
       "496                  13  \n",
       "497                   4  \n",
       "498                  16  \n",
       "499                   6  \n",
       "\n",
       "[500 rows x 9 columns]"
      ]
     },
     "execution_count": 67,
     "metadata": {},
     "output_type": "execute_result"
    }
   ],
   "source": [
    "netflix_df[\"year_since_release\"]=2025-netflix_df[\"release_year\"]\n",
    "netflix_df"
   ]
  },
  {
   "cell_type": "markdown",
   "id": "c9f82b2a",
   "metadata": {},
   "source": [
    "# Q11\tGroup the dataset by release_year and count how many shows were released each year."
   ]
  },
  {
   "cell_type": "code",
   "execution_count": 68,
   "id": "8b44b6f8",
   "metadata": {},
   "outputs": [
    {
     "data": {
      "application/vnd.microsoft.datawrangler.viewer.v0+json": {
       "columns": [
        {
         "name": "release_year",
         "rawType": "int64",
         "type": "integer"
        },
        {
         "name": "title",
         "rawType": "int64",
         "type": "integer"
        }
       ],
       "ref": "e7d7c48b-74e7-4eea-b51d-e90bebee4b78",
       "rows": [
        [
         "2021",
         "20"
        ],
        [
         "2020",
         "24"
        ],
        [
         "2019",
         "21"
        ],
        [
         "2018",
         "24"
        ],
        [
         "2017",
         "19"
        ],
        [
         "2016",
         "14"
        ],
        [
         "2015",
         "11"
        ],
        [
         "2014",
         "10"
        ],
        [
         "2013",
         "5"
        ],
        [
         "2012",
         "4"
        ],
        [
         "2010",
         "3"
        ],
        [
         "2009",
         "4"
        ],
        [
         "2008",
         "1"
        ],
        [
         "2007",
         "1"
        ],
        [
         "2006",
         "1"
        ],
        [
         "2004",
         "1"
        ],
        [
         "2002",
         "1"
        ],
        [
         "1998",
         "1"
        ],
        [
         "1993",
         "1"
        ],
        [
         "1963",
         "1"
        ]
       ],
       "shape": {
        "columns": 1,
        "rows": 20
       }
      },
      "text/plain": [
       "release_year\n",
       "2021    20\n",
       "2020    24\n",
       "2019    21\n",
       "2018    24\n",
       "2017    19\n",
       "2016    14\n",
       "2015    11\n",
       "2014    10\n",
       "2013     5\n",
       "2012     4\n",
       "2010     3\n",
       "2009     4\n",
       "2008     1\n",
       "2007     1\n",
       "2006     1\n",
       "2004     1\n",
       "2002     1\n",
       "1998     1\n",
       "1993     1\n",
       "1963     1\n",
       "Name: title, dtype: int64"
      ]
     },
     "execution_count": 68,
     "metadata": {},
     "output_type": "execute_result"
    }
   ],
   "source": [
    "netflix_df[netflix_df[\"content_type\"]==\"TV Show\"].groupby(\"release_year\")[\"title\"].count().sort_index(ascending=False)"
   ]
  },
  {
   "cell_type": "markdown",
   "id": "8efdc845",
   "metadata": {},
   "source": [
    "# Q12\tFind how many unique countries are represented in the dataset."
   ]
  },
  {
   "cell_type": "code",
   "execution_count": 69,
   "id": "7bedda3e",
   "metadata": {},
   "outputs": [
    {
     "data": {
      "text/plain": [
       "99"
      ]
     },
     "execution_count": 69,
     "metadata": {},
     "output_type": "execute_result"
    }
   ],
   "source": [
    "netflix_df[\"country\"].nunique()"
   ]
  }
 ],
 "metadata": {
  "kernelspec": {
   "display_name": "Python 3",
   "language": "python",
   "name": "python3"
  },
  "language_info": {
   "codemirror_mode": {
    "name": "ipython",
    "version": 3
   },
   "file_extension": ".py",
   "mimetype": "text/x-python",
   "name": "python",
   "nbconvert_exporter": "python",
   "pygments_lexer": "ipython3",
   "version": "3.13.3"
  }
 },
 "nbformat": 4,
 "nbformat_minor": 5
}
